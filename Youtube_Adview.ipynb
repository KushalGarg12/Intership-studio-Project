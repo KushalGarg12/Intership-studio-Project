{
  "nbformat": 4,
  "nbformat_minor": 0,
  "metadata": {
    "colab": {
      "name": "Youtube Adview.ipynb",
      "provenance": []
    },
    "kernelspec": {
      "name": "python3",
      "display_name": "Python 3"
    },
    "accelerator": "GPU"
  },
  "cells": [
    {
      "cell_type": "markdown",
      "metadata": {
        "id": "T9ytNQey_2ct"
      },
      "source": [
        "#importing important libraries"
      ]
    },
    {
      "cell_type": "code",
      "metadata": {
        "id": "lI1lNB7Gb0b8"
      },
      "source": [
        "import pandas as pd\n",
        "import numpy as np\n",
        "import matplotlib.pyplot as plt"
      ],
      "execution_count": 1,
      "outputs": []
    },
    {
      "cell_type": "markdown",
      "metadata": {
        "id": "k0uwlzGl__E5"
      },
      "source": [
        "#uploading the train dataset "
      ]
    },
    {
      "cell_type": "code",
      "metadata": {
        "colab": {
          "resources": {
            "http://localhost:8080/nbextensions/google.colab/files.js": {
              "data": "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",
              "ok": true,
              "headers": [
                [
                  "content-type",
                  "application/javascript"
                ]
              ],
              "status": 200,
              "status_text": ""
            }
          },
          "base_uri": "https://localhost:8080/",
          "height": 73
        },
        "id": "7yrM-YuNcK1K",
        "outputId": "ab8f578a-7322-4a3a-d814-30cf60dc5701"
      },
      "source": [
        "from google.colab import files\n",
        "uploaded = files.upload()"
      ],
      "execution_count": 2,
      "outputs": [
        {
          "output_type": "display_data",
          "data": {
            "text/html": [
              "\n",
              "     <input type=\"file\" id=\"files-ea1ce189-023b-4a5f-8088-8a1178d4dd2b\" name=\"files[]\" multiple disabled\n",
              "        style=\"border:none\" />\n",
              "     <output id=\"result-ea1ce189-023b-4a5f-8088-8a1178d4dd2b\">\n",
              "      Upload widget is only available when the cell has been executed in the\n",
              "      current browser session. Please rerun this cell to enable.\n",
              "      </output>\n",
              "      <script src=\"/nbextensions/google.colab/files.js\"></script> "
            ],
            "text/plain": [
              "<IPython.core.display.HTML object>"
            ]
          },
          "metadata": {
            "tags": []
          }
        },
        {
          "output_type": "stream",
          "text": [
            "Saving train.csv to train (1).csv\n"
          ],
          "name": "stdout"
        }
      ]
    },
    {
      "cell_type": "markdown",
      "metadata": {
        "id": "QQnL8fJ_ADlO"
      },
      "source": [
        "## Train dataset"
      ]
    },
    {
      "cell_type": "code",
      "metadata": {
        "colab": {
          "base_uri": "https://localhost:8080/",
          "height": 195
        },
        "id": "1TUORWXmcNAr",
        "outputId": "1b812feb-b1e2-4f34-a690-16e5bd6be27b"
      },
      "source": [
        "train=pd.read_csv(\"train.csv\")\n",
        "train.head()"
      ],
      "execution_count": 3,
      "outputs": [
        {
          "output_type": "execute_result",
          "data": {
            "text/html": [
              "<div>\n",
              "<style scoped>\n",
              "    .dataframe tbody tr th:only-of-type {\n",
              "        vertical-align: middle;\n",
              "    }\n",
              "\n",
              "    .dataframe tbody tr th {\n",
              "        vertical-align: top;\n",
              "    }\n",
              "\n",
              "    .dataframe thead th {\n",
              "        text-align: right;\n",
              "    }\n",
              "</style>\n",
              "<table border=\"1\" class=\"dataframe\">\n",
              "  <thead>\n",
              "    <tr style=\"text-align: right;\">\n",
              "      <th></th>\n",
              "      <th>vidid</th>\n",
              "      <th>adview</th>\n",
              "      <th>views</th>\n",
              "      <th>likes</th>\n",
              "      <th>dislikes</th>\n",
              "      <th>comment</th>\n",
              "      <th>published</th>\n",
              "      <th>duration</th>\n",
              "      <th>category</th>\n",
              "    </tr>\n",
              "  </thead>\n",
              "  <tbody>\n",
              "    <tr>\n",
              "      <th>0</th>\n",
              "      <td>VID_18655</td>\n",
              "      <td>40</td>\n",
              "      <td>1031602</td>\n",
              "      <td>8523</td>\n",
              "      <td>363</td>\n",
              "      <td>1095</td>\n",
              "      <td>2016-09-14</td>\n",
              "      <td>PT7M37S</td>\n",
              "      <td>F</td>\n",
              "    </tr>\n",
              "    <tr>\n",
              "      <th>1</th>\n",
              "      <td>VID_14135</td>\n",
              "      <td>2</td>\n",
              "      <td>1707</td>\n",
              "      <td>56</td>\n",
              "      <td>2</td>\n",
              "      <td>6</td>\n",
              "      <td>2016-10-01</td>\n",
              "      <td>PT9M30S</td>\n",
              "      <td>D</td>\n",
              "    </tr>\n",
              "    <tr>\n",
              "      <th>2</th>\n",
              "      <td>VID_2187</td>\n",
              "      <td>1</td>\n",
              "      <td>2023</td>\n",
              "      <td>25</td>\n",
              "      <td>0</td>\n",
              "      <td>2</td>\n",
              "      <td>2016-07-02</td>\n",
              "      <td>PT2M16S</td>\n",
              "      <td>C</td>\n",
              "    </tr>\n",
              "    <tr>\n",
              "      <th>3</th>\n",
              "      <td>VID_23096</td>\n",
              "      <td>6</td>\n",
              "      <td>620860</td>\n",
              "      <td>777</td>\n",
              "      <td>161</td>\n",
              "      <td>153</td>\n",
              "      <td>2016-07-27</td>\n",
              "      <td>PT4M22S</td>\n",
              "      <td>H</td>\n",
              "    </tr>\n",
              "    <tr>\n",
              "      <th>4</th>\n",
              "      <td>VID_10175</td>\n",
              "      <td>1</td>\n",
              "      <td>666</td>\n",
              "      <td>1</td>\n",
              "      <td>0</td>\n",
              "      <td>0</td>\n",
              "      <td>2016-06-29</td>\n",
              "      <td>PT31S</td>\n",
              "      <td>D</td>\n",
              "    </tr>\n",
              "  </tbody>\n",
              "</table>\n",
              "</div>"
            ],
            "text/plain": [
              "       vidid  adview    views likes  ... comment   published duration category\n",
              "0  VID_18655      40  1031602  8523  ...    1095  2016-09-14  PT7M37S        F\n",
              "1  VID_14135       2     1707    56  ...       6  2016-10-01  PT9M30S        D\n",
              "2   VID_2187       1     2023    25  ...       2  2016-07-02  PT2M16S        C\n",
              "3  VID_23096       6   620860   777  ...     153  2016-07-27  PT4M22S        H\n",
              "4  VID_10175       1      666     1  ...       0  2016-06-29    PT31S        D\n",
              "\n",
              "[5 rows x 9 columns]"
            ]
          },
          "metadata": {
            "tags": []
          },
          "execution_count": 3
        }
      ]
    },
    {
      "cell_type": "markdown",
      "metadata": {
        "id": "cWRkKMdAACoI"
      },
      "source": [
        "## Shape of the train dataset"
      ]
    },
    {
      "cell_type": "code",
      "metadata": {
        "colab": {
          "base_uri": "https://localhost:8080/"
        },
        "id": "WcrR79BDdrci",
        "outputId": "de4bf0a3-8f5e-4b12-b472-6802c1bad1ba"
      },
      "source": [
        "train.shape"
      ],
      "execution_count": 4,
      "outputs": [
        {
          "output_type": "execute_result",
          "data": {
            "text/plain": [
              "(14999, 9)"
            ]
          },
          "metadata": {
            "tags": []
          },
          "execution_count": 4
        }
      ]
    },
    {
      "cell_type": "code",
      "metadata": {
        "id": "x3ob97lnd1fP"
      },
      "source": [
        "column_vidid=train['vidid']\n"
      ],
      "execution_count": 5,
      "outputs": []
    },
    {
      "cell_type": "markdown",
      "metadata": {
        "id": "cCbU9TbeAO3o"
      },
      "source": [
        "## Exploratory Data Analysis and Data Cleaning"
      ]
    },
    {
      "cell_type": "code",
      "metadata": {
        "id": "VAD6U0Ldd4mi"
      },
      "source": [
        "import datetime\n",
        "import time"
      ],
      "execution_count": 6,
      "outputs": []
    },
    {
      "cell_type": "code",
      "metadata": {
        "colab": {
          "base_uri": "https://localhost:8080/",
          "height": 195
        },
        "id": "cR_vbm6pd6eQ",
        "outputId": "df9e3731-71e3-458e-b7e7-458b7f24ae53"
      },
      "source": [
        "def checki(x):\n",
        "        y = x[2:]\n",
        "        h = ''\n",
        "        m = ''\n",
        "        s = ''\n",
        "        mm = ''\n",
        "        P = ['H','M','S']\n",
        "        for i in y:\n",
        "            if i not in P:\n",
        "                mm+=i\n",
        "            else:\n",
        "                if(i==\"H\"):\n",
        "                    h = mm\n",
        "                    mm = ''\n",
        "                elif(i == \"M\"):\n",
        "                    m = mm\n",
        "                    mm = ''\n",
        "                else:\n",
        "                    s = mm\n",
        "                    mm = ''\n",
        "        if(h==''):\n",
        "            h = '00'\n",
        "        if(m == ''):\n",
        "            m = '00'\n",
        "        if(s==''):\n",
        "            s='00'\n",
        "        bp = h+':'+m+':'+s\n",
        "        return bp\n",
        "train=pd.read_csv(\"train.csv\")\n",
        "mp = pd.read_csv(\"train.csv\")[\"duration\"]\n",
        "time = mp.apply(checki)\n",
        "def func_sec(time_string):\n",
        "        h, m, s = time_string.split(':')\n",
        "        return int(h) * 3600 + int(m) * 60 + int(s)\n",
        "time1=time.apply(func_sec)\n",
        "train[\"duration\"]=time1\n",
        "train.head()"
      ],
      "execution_count": 7,
      "outputs": [
        {
          "output_type": "execute_result",
          "data": {
            "text/html": [
              "<div>\n",
              "<style scoped>\n",
              "    .dataframe tbody tr th:only-of-type {\n",
              "        vertical-align: middle;\n",
              "    }\n",
              "\n",
              "    .dataframe tbody tr th {\n",
              "        vertical-align: top;\n",
              "    }\n",
              "\n",
              "    .dataframe thead th {\n",
              "        text-align: right;\n",
              "    }\n",
              "</style>\n",
              "<table border=\"1\" class=\"dataframe\">\n",
              "  <thead>\n",
              "    <tr style=\"text-align: right;\">\n",
              "      <th></th>\n",
              "      <th>vidid</th>\n",
              "      <th>adview</th>\n",
              "      <th>views</th>\n",
              "      <th>likes</th>\n",
              "      <th>dislikes</th>\n",
              "      <th>comment</th>\n",
              "      <th>published</th>\n",
              "      <th>duration</th>\n",
              "      <th>category</th>\n",
              "    </tr>\n",
              "  </thead>\n",
              "  <tbody>\n",
              "    <tr>\n",
              "      <th>0</th>\n",
              "      <td>VID_18655</td>\n",
              "      <td>40</td>\n",
              "      <td>1031602</td>\n",
              "      <td>8523</td>\n",
              "      <td>363</td>\n",
              "      <td>1095</td>\n",
              "      <td>2016-09-14</td>\n",
              "      <td>457</td>\n",
              "      <td>F</td>\n",
              "    </tr>\n",
              "    <tr>\n",
              "      <th>1</th>\n",
              "      <td>VID_14135</td>\n",
              "      <td>2</td>\n",
              "      <td>1707</td>\n",
              "      <td>56</td>\n",
              "      <td>2</td>\n",
              "      <td>6</td>\n",
              "      <td>2016-10-01</td>\n",
              "      <td>570</td>\n",
              "      <td>D</td>\n",
              "    </tr>\n",
              "    <tr>\n",
              "      <th>2</th>\n",
              "      <td>VID_2187</td>\n",
              "      <td>1</td>\n",
              "      <td>2023</td>\n",
              "      <td>25</td>\n",
              "      <td>0</td>\n",
              "      <td>2</td>\n",
              "      <td>2016-07-02</td>\n",
              "      <td>136</td>\n",
              "      <td>C</td>\n",
              "    </tr>\n",
              "    <tr>\n",
              "      <th>3</th>\n",
              "      <td>VID_23096</td>\n",
              "      <td>6</td>\n",
              "      <td>620860</td>\n",
              "      <td>777</td>\n",
              "      <td>161</td>\n",
              "      <td>153</td>\n",
              "      <td>2016-07-27</td>\n",
              "      <td>262</td>\n",
              "      <td>H</td>\n",
              "    </tr>\n",
              "    <tr>\n",
              "      <th>4</th>\n",
              "      <td>VID_10175</td>\n",
              "      <td>1</td>\n",
              "      <td>666</td>\n",
              "      <td>1</td>\n",
              "      <td>0</td>\n",
              "      <td>0</td>\n",
              "      <td>2016-06-29</td>\n",
              "      <td>31</td>\n",
              "      <td>D</td>\n",
              "    </tr>\n",
              "  </tbody>\n",
              "</table>\n",
              "</div>"
            ],
            "text/plain": [
              "       vidid  adview    views likes  ... comment   published duration  category\n",
              "0  VID_18655      40  1031602  8523  ...    1095  2016-09-14      457         F\n",
              "1  VID_14135       2     1707    56  ...       6  2016-10-01      570         D\n",
              "2   VID_2187       1     2023    25  ...       2  2016-07-02      136         C\n",
              "3  VID_23096       6   620860   777  ...     153  2016-07-27      262         H\n",
              "4  VID_10175       1      666     1  ...       0  2016-06-29       31         D\n",
              "\n",
              "[5 rows x 9 columns]"
            ]
          },
          "metadata": {
            "tags": []
          },
          "execution_count": 7
        }
      ]
    },
    {
      "cell_type": "code",
      "metadata": {
        "id": "JZ6NJI3hd8f2"
      },
      "source": [
        "category={'A':1,'B':2,'C':3,'D':4,'E':5,'F':6,'G':7,'H':8}"
      ],
      "execution_count": 8,
      "outputs": []
    },
    {
      "cell_type": "code",
      "metadata": {
        "id": "MzMGDh1Nd_Pa"
      },
      "source": [
        "train['category']=train['category'].map(category)"
      ],
      "execution_count": 9,
      "outputs": []
    },
    {
      "cell_type": "code",
      "metadata": {
        "colab": {
          "base_uri": "https://localhost:8080/",
          "height": 195
        },
        "id": "Bh8flXvqeA9h",
        "outputId": "0ea2e74a-1447-4390-a7af-eabadd1eb132"
      },
      "source": [
        "from sklearn.preprocessing import LabelEncoder\n",
        "#train['duration']=LabelEncoder().fit_transform(train['duration'])\n",
        "train['vidid']=LabelEncoder().fit_transform(train['vidid'])\n",
        "train['published']=LabelEncoder().fit_transform(train['published'])\n",
        "train.head()"
      ],
      "execution_count": 10,
      "outputs": [
        {
          "output_type": "execute_result",
          "data": {
            "text/html": [
              "<div>\n",
              "<style scoped>\n",
              "    .dataframe tbody tr th:only-of-type {\n",
              "        vertical-align: middle;\n",
              "    }\n",
              "\n",
              "    .dataframe tbody tr th {\n",
              "        vertical-align: top;\n",
              "    }\n",
              "\n",
              "    .dataframe thead th {\n",
              "        text-align: right;\n",
              "    }\n",
              "</style>\n",
              "<table border=\"1\" class=\"dataframe\">\n",
              "  <thead>\n",
              "    <tr style=\"text-align: right;\">\n",
              "      <th></th>\n",
              "      <th>vidid</th>\n",
              "      <th>adview</th>\n",
              "      <th>views</th>\n",
              "      <th>likes</th>\n",
              "      <th>dislikes</th>\n",
              "      <th>comment</th>\n",
              "      <th>published</th>\n",
              "      <th>duration</th>\n",
              "      <th>category</th>\n",
              "    </tr>\n",
              "  </thead>\n",
              "  <tbody>\n",
              "    <tr>\n",
              "      <th>0</th>\n",
              "      <td>6078</td>\n",
              "      <td>40</td>\n",
              "      <td>1031602</td>\n",
              "      <td>8523</td>\n",
              "      <td>363</td>\n",
              "      <td>1095</td>\n",
              "      <td>2170</td>\n",
              "      <td>457</td>\n",
              "      <td>6</td>\n",
              "    </tr>\n",
              "    <tr>\n",
              "      <th>1</th>\n",
              "      <td>2869</td>\n",
              "      <td>2</td>\n",
              "      <td>1707</td>\n",
              "      <td>56</td>\n",
              "      <td>2</td>\n",
              "      <td>6</td>\n",
              "      <td>2187</td>\n",
              "      <td>570</td>\n",
              "      <td>4</td>\n",
              "    </tr>\n",
              "    <tr>\n",
              "      <th>2</th>\n",
              "      <td>8339</td>\n",
              "      <td>1</td>\n",
              "      <td>2023</td>\n",
              "      <td>25</td>\n",
              "      <td>0</td>\n",
              "      <td>2</td>\n",
              "      <td>2096</td>\n",
              "      <td>136</td>\n",
              "      <td>3</td>\n",
              "    </tr>\n",
              "    <tr>\n",
              "      <th>3</th>\n",
              "      <td>9215</td>\n",
              "      <td>6</td>\n",
              "      <td>620860</td>\n",
              "      <td>777</td>\n",
              "      <td>161</td>\n",
              "      <td>153</td>\n",
              "      <td>2121</td>\n",
              "      <td>262</td>\n",
              "      <td>8</td>\n",
              "    </tr>\n",
              "    <tr>\n",
              "      <th>4</th>\n",
              "      <td>123</td>\n",
              "      <td>1</td>\n",
              "      <td>666</td>\n",
              "      <td>1</td>\n",
              "      <td>0</td>\n",
              "      <td>0</td>\n",
              "      <td>2093</td>\n",
              "      <td>31</td>\n",
              "      <td>4</td>\n",
              "    </tr>\n",
              "  </tbody>\n",
              "</table>\n",
              "</div>"
            ],
            "text/plain": [
              "   vidid  adview    views likes dislikes comment  published  duration  category\n",
              "0   6078      40  1031602  8523      363    1095       2170       457         6\n",
              "1   2869       2     1707    56        2       6       2187       570         4\n",
              "2   8339       1     2023    25        0       2       2096       136         3\n",
              "3   9215       6   620860   777      161     153       2121       262         8\n",
              "4    123       1      666     1        0       0       2093        31         4"
            ]
          },
          "metadata": {
            "tags": []
          },
          "execution_count": 10
        }
      ]
    },
    {
      "cell_type": "code",
      "metadata": {
        "id": "3HUlRMyReCdS"
      },
      "source": [
        "train=train[train.views!='F']\n",
        "train=train[train.likes!='F']\n",
        "train=train[train.dislikes!='F']\n",
        "train=train[train.comment!='F']"
      ],
      "execution_count": 11,
      "outputs": []
    },
    {
      "cell_type": "code",
      "metadata": {
        "id": "Nw1CJDf5eG67"
      },
      "source": [
        "train[\"views\"] = pd.to_numeric(train[\"views\"])\n",
        "train[\"comment\"] = pd.to_numeric(train[\"comment\"])\n",
        "train[\"likes\"] = pd.to_numeric(train[\"likes\"])\n",
        "train[\"dislikes\"] = pd.to_numeric(train[\"dislikes\"])\n",
        "train[\"adview\"]=pd.to_numeric(train[\"adview\"])"
      ],
      "execution_count": 12,
      "outputs": []
    },
    {
      "cell_type": "markdown",
      "metadata": {
        "id": "48fVGTQEAWID"
      },
      "source": [
        "## Data Visualization"
      ]
    },
    {
      "cell_type": "code",
      "metadata": {
        "colab": {
          "base_uri": "https://localhost:8080/",
          "height": 524
        },
        "id": "Za7hXpzQeI0I",
        "outputId": "01ed3042-976d-4016-8267-7b28a9851373"
      },
      "source": [
        "plt.hist(train[\"category\"])\n",
        "plt.show()\n",
        "plt.plot(train[\"adview\"])\n",
        "plt.show()\n"
      ],
      "execution_count": 13,
      "outputs": [
        {
          "output_type": "display_data",
          "data": {
            "image/png": "[encoded data removed]",
            "text/plain": [
              "<Figure size 432x288 with 1 Axes>"
            ]
          },
          "metadata": {
            "tags": [],
            "needs_background": "light"
          }
        },
        {
          "output_type": "display_data",
          "data": {
            "image/png": "[encoded data removed]",
            "text/plain": [
              "<Figure size 432x288 with 1 Axes>"
            ]
          },
          "metadata": {
            "tags": [],
            "needs_background": "light"
          }
        }
      ]
    },
    {
      "cell_type": "code",
      "metadata": {
        "id": "THgtghzheKr_"
      },
      "source": [
        "train = train[train[\"adview\"] <2000000]"
      ],
      "execution_count": 14,
      "outputs": []
    },
    {
      "cell_type": "code",
      "metadata": {
        "colab": {
          "base_uri": "https://localhost:8080/",
          "height": 195
        },
        "id": "P0_Zs8eleMgs",
        "outputId": "cecbbc73-cf76-4c54-a2c5-554953bdaa4d"
      },
      "source": [
        "train.head()"
      ],
      "execution_count": 15,
      "outputs": [
        {
          "output_type": "execute_result",
          "data": {
            "text/html": [
              "<div>\n",
              "<style scoped>\n",
              "    .dataframe tbody tr th:only-of-type {\n",
              "        vertical-align: middle;\n",
              "    }\n",
              "\n",
              "    .dataframe tbody tr th {\n",
              "        vertical-align: top;\n",
              "    }\n",
              "\n",
              "    .dataframe thead th {\n",
              "        text-align: right;\n",
              "    }\n",
              "</style>\n",
              "<table border=\"1\" class=\"dataframe\">\n",
              "  <thead>\n",
              "    <tr style=\"text-align: right;\">\n",
              "      <th></th>\n",
              "      <th>vidid</th>\n",
              "      <th>adview</th>\n",
              "      <th>views</th>\n",
              "      <th>likes</th>\n",
              "      <th>dislikes</th>\n",
              "      <th>comment</th>\n",
              "      <th>published</th>\n",
              "      <th>duration</th>\n",
              "      <th>category</th>\n",
              "    </tr>\n",
              "  </thead>\n",
              "  <tbody>\n",
              "    <tr>\n",
              "      <th>0</th>\n",
              "      <td>6078</td>\n",
              "      <td>40</td>\n",
              "      <td>1031602</td>\n",
              "      <td>8523</td>\n",
              "      <td>363</td>\n",
              "      <td>1095</td>\n",
              "      <td>2170</td>\n",
              "      <td>457</td>\n",
              "      <td>6</td>\n",
              "    </tr>\n",
              "    <tr>\n",
              "      <th>1</th>\n",
              "      <td>2869</td>\n",
              "      <td>2</td>\n",
              "      <td>1707</td>\n",
              "      <td>56</td>\n",
              "      <td>2</td>\n",
              "      <td>6</td>\n",
              "      <td>2187</td>\n",
              "      <td>570</td>\n",
              "      <td>4</td>\n",
              "    </tr>\n",
              "    <tr>\n",
              "      <th>2</th>\n",
              "      <td>8339</td>\n",
              "      <td>1</td>\n",
              "      <td>2023</td>\n",
              "      <td>25</td>\n",
              "      <td>0</td>\n",
              "      <td>2</td>\n",
              "      <td>2096</td>\n",
              "      <td>136</td>\n",
              "      <td>3</td>\n",
              "    </tr>\n",
              "    <tr>\n",
              "      <th>3</th>\n",
              "      <td>9215</td>\n",
              "      <td>6</td>\n",
              "      <td>620860</td>\n",
              "      <td>777</td>\n",
              "      <td>161</td>\n",
              "      <td>153</td>\n",
              "      <td>2121</td>\n",
              "      <td>262</td>\n",
              "      <td>8</td>\n",
              "    </tr>\n",
              "    <tr>\n",
              "      <th>4</th>\n",
              "      <td>123</td>\n",
              "      <td>1</td>\n",
              "      <td>666</td>\n",
              "      <td>1</td>\n",
              "      <td>0</td>\n",
              "      <td>0</td>\n",
              "      <td>2093</td>\n",
              "      <td>31</td>\n",
              "      <td>4</td>\n",
              "    </tr>\n",
              "  </tbody>\n",
              "</table>\n",
              "</div>"
            ],
            "text/plain": [
              "   vidid  adview    views  likes  ...  comment  published  duration  category\n",
              "0   6078      40  1031602   8523  ...     1095       2170       457         6\n",
              "1   2869       2     1707     56  ...        6       2187       570         4\n",
              "2   8339       1     2023     25  ...        2       2096       136         3\n",
              "3   9215       6   620860    777  ...      153       2121       262         8\n",
              "4    123       1      666      1  ...        0       2093        31         4\n",
              "\n",
              "[5 rows x 9 columns]"
            ]
          },
          "metadata": {
            "tags": []
          },
          "execution_count": 15
        }
      ]
    },
    {
      "cell_type": "markdown",
      "metadata": {
        "id": "Kk1kQj_fAZhC"
      },
      "source": [
        "## Correlation Matrix and heatmap"
      ]
    },
    {
      "cell_type": "code",
      "metadata": {
        "colab": {
          "base_uri": "https://localhost:8080/",
          "height": 325
        },
        "id": "tBuAYisVeOMe",
        "outputId": "8cc5f263-799c-4cbf-bf86-40497315ae7d"
      },
      "source": [
        "import seaborn as sns\n",
        "corr = train.corr()\n",
        "\n",
        "\n",
        "sns.heatmap(corr, \n",
        "        xticklabels=corr.columns,\n",
        "        yticklabels=corr.columns)\n"
      ],
      "execution_count": 16,
      "outputs": [
        {
          "output_type": "execute_result",
          "data": {
            "text/plain": [
              "<matplotlib.axes._subplots.AxesSubplot at 0x7f4738ecea20>"
            ]
          },
          "metadata": {
            "tags": []
          },
          "execution_count": 16
        },
        {
          "output_type": "display_data",
          "data": {
            "image/png": "[encoded data removed]",
            "text/plain": [
              "<Figure size 432x288 with 2 Axes>"
            ]
          },
          "metadata": {
            "tags": [],
            "needs_background": "light"
          }
        }
      ]
    },
    {
      "cell_type": "code",
      "metadata": {
        "colab": {
          "base_uri": "https://localhost:8080/",
          "height": 314
        },
        "id": "WpDzd_cfePhb",
        "outputId": "398b419b-ebf5-4fa6-9096-f37f3ce38ba7"
      },
      "source": [
        "train.corr()"
      ],
      "execution_count": 17,
      "outputs": [
        {
          "output_type": "execute_result",
          "data": {
            "text/html": [
              "<div>\n",
              "<style scoped>\n",
              "    .dataframe tbody tr th:only-of-type {\n",
              "        vertical-align: middle;\n",
              "    }\n",
              "\n",
              "    .dataframe tbody tr th {\n",
              "        vertical-align: top;\n",
              "    }\n",
              "\n",
              "    .dataframe thead th {\n",
              "        text-align: right;\n",
              "    }\n",
              "</style>\n",
              "<table border=\"1\" class=\"dataframe\">\n",
              "  <thead>\n",
              "    <tr style=\"text-align: right;\">\n",
              "      <th></th>\n",
              "      <th>vidid</th>\n",
              "      <th>adview</th>\n",
              "      <th>views</th>\n",
              "      <th>likes</th>\n",
              "      <th>dislikes</th>\n",
              "      <th>comment</th>\n",
              "      <th>published</th>\n",
              "      <th>duration</th>\n",
              "      <th>category</th>\n",
              "    </tr>\n",
              "  </thead>\n",
              "  <tbody>\n",
              "    <tr>\n",
              "      <th>vidid</th>\n",
              "      <td>1.000000</td>\n",
              "      <td>-0.031181</td>\n",
              "      <td>-0.047544</td>\n",
              "      <td>-0.129052</td>\n",
              "      <td>-0.076376</td>\n",
              "      <td>-0.081150</td>\n",
              "      <td>-0.144683</td>\n",
              "      <td>0.007106</td>\n",
              "      <td>-0.040350</td>\n",
              "    </tr>\n",
              "    <tr>\n",
              "      <th>adview</th>\n",
              "      <td>-0.031181</td>\n",
              "      <td>1.000000</td>\n",
              "      <td>0.031177</td>\n",
              "      <td>0.046541</td>\n",
              "      <td>0.016686</td>\n",
              "      <td>0.017631</td>\n",
              "      <td>0.055650</td>\n",
              "      <td>-0.019592</td>\n",
              "      <td>-0.004910</td>\n",
              "    </tr>\n",
              "    <tr>\n",
              "      <th>views</th>\n",
              "      <td>-0.047544</td>\n",
              "      <td>0.031177</td>\n",
              "      <td>1.000000</td>\n",
              "      <td>0.726599</td>\n",
              "      <td>0.730216</td>\n",
              "      <td>0.410597</td>\n",
              "      <td>0.020111</td>\n",
              "      <td>0.002563</td>\n",
              "      <td>0.032822</td>\n",
              "    </tr>\n",
              "    <tr>\n",
              "      <th>likes</th>\n",
              "      <td>-0.129052</td>\n",
              "      <td>0.046541</td>\n",
              "      <td>0.726599</td>\n",
              "      <td>1.000000</td>\n",
              "      <td>0.648631</td>\n",
              "      <td>0.651215</td>\n",
              "      <td>0.096934</td>\n",
              "      <td>-0.042518</td>\n",
              "      <td>-0.009175</td>\n",
              "    </tr>\n",
              "    <tr>\n",
              "      <th>dislikes</th>\n",
              "      <td>-0.076376</td>\n",
              "      <td>0.016686</td>\n",
              "      <td>0.730216</td>\n",
              "      <td>0.648631</td>\n",
              "      <td>1.000000</td>\n",
              "      <td>0.532588</td>\n",
              "      <td>0.043739</td>\n",
              "      <td>0.001587</td>\n",
              "      <td>0.011355</td>\n",
              "    </tr>\n",
              "    <tr>\n",
              "      <th>comment</th>\n",
              "      <td>-0.081150</td>\n",
              "      <td>0.017631</td>\n",
              "      <td>0.410597</td>\n",
              "      <td>0.651215</td>\n",
              "      <td>0.532588</td>\n",
              "      <td>1.000000</td>\n",
              "      <td>0.114230</td>\n",
              "      <td>-0.037478</td>\n",
              "      <td>-0.034107</td>\n",
              "    </tr>\n",
              "    <tr>\n",
              "      <th>published</th>\n",
              "      <td>-0.144683</td>\n",
              "      <td>0.055650</td>\n",
              "      <td>0.020111</td>\n",
              "      <td>0.096934</td>\n",
              "      <td>0.043739</td>\n",
              "      <td>0.114230</td>\n",
              "      <td>1.000000</td>\n",
              "      <td>0.011990</td>\n",
              "      <td>-0.056831</td>\n",
              "    </tr>\n",
              "    <tr>\n",
              "      <th>duration</th>\n",
              "      <td>0.007106</td>\n",
              "      <td>-0.019592</td>\n",
              "      <td>0.002563</td>\n",
              "      <td>-0.042518</td>\n",
              "      <td>0.001587</td>\n",
              "      <td>-0.037478</td>\n",
              "      <td>0.011990</td>\n",
              "      <td>1.000000</td>\n",
              "      <td>0.049235</td>\n",
              "    </tr>\n",
              "    <tr>\n",
              "      <th>category</th>\n",
              "      <td>-0.040350</td>\n",
              "      <td>-0.004910</td>\n",
              "      <td>0.032822</td>\n",
              "      <td>-0.009175</td>\n",
              "      <td>0.011355</td>\n",
              "      <td>-0.034107</td>\n",
              "      <td>-0.056831</td>\n",
              "      <td>0.049235</td>\n",
              "      <td>1.000000</td>\n",
              "    </tr>\n",
              "  </tbody>\n",
              "</table>\n",
              "</div>"
            ],
            "text/plain": [
              "              vidid    adview     views  ...  published  duration  category\n",
              "vidid      1.000000 -0.031181 -0.047544  ...  -0.144683  0.007106 -0.040350\n",
              "adview    -0.031181  1.000000  0.031177  ...   0.055650 -0.019592 -0.004910\n",
              "views     -0.047544  0.031177  1.000000  ...   0.020111  0.002563  0.032822\n",
              "likes     -0.129052  0.046541  0.726599  ...   0.096934 -0.042518 -0.009175\n",
              "dislikes  -0.076376  0.016686  0.730216  ...   0.043739  0.001587  0.011355\n",
              "comment   -0.081150  0.017631  0.410597  ...   0.114230 -0.037478 -0.034107\n",
              "published -0.144683  0.055650  0.020111  ...   1.000000  0.011990 -0.056831\n",
              "duration   0.007106 -0.019592  0.002563  ...   0.011990  1.000000  0.049235\n",
              "category  -0.040350 -0.004910  0.032822  ...  -0.056831  0.049235  1.000000\n",
              "\n",
              "[9 rows x 9 columns]"
            ]
          },
          "metadata": {
            "tags": []
          },
          "execution_count": 17
        }
      ]
    },
    {
      "cell_type": "code",
      "metadata": {
        "id": "OrftPWAveRfV"
      },
      "source": [
        "x=train.drop(['adview','vidid'],axis=1)\n",
        "y=train.adview"
      ],
      "execution_count": 18,
      "outputs": []
    },
    {
      "cell_type": "markdown",
      "metadata": {
        "id": "fdt0ziegAeh0"
      },
      "source": [
        "## Splitting the dataset into train and test set for making the predictive model"
      ]
    },
    {
      "cell_type": "code",
      "metadata": {
        "colab": {
          "base_uri": "https://localhost:8080/"
        },
        "id": "s8Jx2rwEeTcm",
        "outputId": "7156d8a6-77c6-4209-c190-24cdb2f01205"
      },
      "source": [
        "from sklearn.model_selection import train_test_split\n",
        "X_train,X_test,Y_train,Y_test=train_test_split(x,y,test_size=0.2,random_state=42)\n",
        "X_train.shape"
      ],
      "execution_count": 19,
      "outputs": [
        {
          "output_type": "execute_result",
          "data": {
            "text/plain": [
              "(11708, 7)"
            ]
          },
          "metadata": {
            "tags": []
          },
          "execution_count": 19
        }
      ]
    },
    {
      "cell_type": "markdown",
      "metadata": {
        "id": "F-zj4AUkAj8x"
      },
      "source": [
        "## Normalisation "
      ]
    },
    {
      "cell_type": "code",
      "metadata": {
        "id": "ep5rYza9eU51"
      },
      "source": [
        "from sklearn.preprocessing import MinMaxScaler\n",
        "scaler=MinMaxScaler()\n",
        "X_train=scaler.fit_transform(X_train)\n",
        "X_test=scaler.fit_transform(X_test)\n"
      ],
      "execution_count": 20,
      "outputs": []
    },
    {
      "cell_type": "code",
      "metadata": {
        "colab": {
          "base_uri": "https://localhost:8080/"
        },
        "id": "aFgmF_fFeWTs",
        "outputId": "24f72737-9586-4f61-efc8-4478270f9162"
      },
      "source": [
        "X_train.mean()"
      ],
      "execution_count": 21,
      "outputs": [
        {
          "output_type": "execute_result",
          "data": {
            "text/plain": [
              "0.17394777121189706"
            ]
          },
          "metadata": {
            "tags": []
          },
          "execution_count": 21
        }
      ]
    },
    {
      "cell_type": "markdown",
      "metadata": {
        "id": "-qaoAqkZA2MX"
      },
      "source": [
        "## Function to calculate the error for various models trained"
      ]
    },
    {
      "cell_type": "code",
      "metadata": {
        "id": "fcjVHO2deX-_"
      },
      "source": [
        "from sklearn import metrics\n",
        "def print_error(X_test,Y_test,model_name):\n",
        "    prediction = model_name.predict(X_test)\n",
        "    print('Mean Absolute Error:', metrics.mean_absolute_error(Y_test, prediction))\n",
        "    print('Mean Squared Error:', metrics.mean_squared_error(Y_test, prediction))\n",
        "    print('Root Mean Squared Error:', np.sqrt(metrics.mean_squared_error(Y_test, prediction)))\n",
        "        "
      ],
      "execution_count": 22,
      "outputs": []
    },
    {
      "cell_type": "markdown",
      "metadata": {
        "id": "XjrgSyRKA9QA"
      },
      "source": [
        "# Linear Regression"
      ]
    },
    {
      "cell_type": "code",
      "metadata": {
        "colab": {
          "base_uri": "https://localhost:8080/"
        },
        "id": "azSAK3jreaD5",
        "outputId": "7994792f-a761-4913-c4c0-99e3eeb86b7a"
      },
      "source": [
        "from sklearn import linear_model\n",
        "linear_regression = linear_model.LinearRegression()\n",
        "linear_regression.fit(X_train, Y_train)\n",
        "print_error(X_test,Y_test, linear_regression)\n"
      ],
      "execution_count": 23,
      "outputs": [
        {
          "output_type": "stream",
          "text": [
            "Mean Absolute Error: 3707.324322744839\n",
            "Mean Squared Error: 835663919.3675851\n",
            "Root Mean Squared Error: 28907.85220952233\n"
          ],
          "name": "stdout"
        }
      ]
    },
    {
      "cell_type": "markdown",
      "metadata": {
        "id": "WAt94UWOBAou"
      },
      "source": [
        "# Support Vector Machine (SVM)"
      ]
    },
    {
      "cell_type": "code",
      "metadata": {
        "colab": {
          "base_uri": "https://localhost:8080/"
        },
        "id": "BHOQThHFebuN",
        "outputId": "53b444a7-355f-41b1-c2a1-b067ebaaa047"
      },
      "source": [
        "from sklearn.svm import SVR\n",
        "supportvector_regressor = SVR()\n",
        "supportvector_regressor.fit(X_train,Y_train)\n",
        "print_error(X_test,Y_test,supportvector_regressor)"
      ],
      "execution_count": 24,
      "outputs": [
        {
          "output_type": "stream",
          "text": [
            "Mean Absolute Error: 1696.9438768920095\n",
            "Mean Squared Error: 833685776.375659\n",
            "Root Mean Squared Error: 28873.617306732784\n"
          ],
          "name": "stdout"
        }
      ]
    },
    {
      "cell_type": "markdown",
      "metadata": {
        "id": "XgsJ37GGBFWQ"
      },
      "source": [
        "# Decision Tree Regressor"
      ]
    },
    {
      "cell_type": "code",
      "metadata": {
        "colab": {
          "base_uri": "https://localhost:8080/"
        },
        "id": "kCyhL-U6edmL",
        "outputId": "4a6c89f8-a8f3-4c4c-faac-4dd8c04dc5cd"
      },
      "source": [
        "from sklearn.tree import DecisionTreeRegressor\n",
        "decision_tree = DecisionTreeRegressor()\n",
        "decision_tree.fit(X_train, Y_train)\n",
        "print_error(X_test,Y_test, decision_tree)"
      ],
      "execution_count": 25,
      "outputs": [
        {
          "output_type": "stream",
          "text": [
            "Mean Absolute Error: 2653.1062158469945\n",
            "Mean Squared Error: 883059099.5679644\n",
            "Root Mean Squared Error: 29716.310328975305\n"
          ],
          "name": "stdout"
        }
      ]
    },
    {
      "cell_type": "markdown",
      "metadata": {
        "id": "lbs5gK1OBH0h"
      },
      "source": [
        "# Random Forest Regressor"
      ]
    },
    {
      "cell_type": "code",
      "metadata": {
        "colab": {
          "base_uri": "https://localhost:8080/"
        },
        "id": "9daLdgE3efLn",
        "outputId": "eff568cd-280a-4778-ff16-843eef4ceeb1"
      },
      "source": [
        "from sklearn.ensemble import RandomForestRegressor\n",
        "n_estimators = 200\n",
        "max_depth = 25\n",
        "min_samples_split=15\n",
        "min_samples_leaf=2\n",
        "random_forest = RandomForestRegressor(n_estimators = n_estimators, max_depth = max_depth, min_samples_split=min_samples_split)\n",
        "random_forest.fit(X_train,Y_train)\n",
        "print_error(X_test,Y_test, random_forest)"
      ],
      "execution_count": 26,
      "outputs": [
        {
          "output_type": "stream",
          "text": [
            "Mean Absolute Error: 3266.8175650564654\n",
            "Mean Squared Error: 612756014.122523\n",
            "Root Mean Squared Error: 24753.909067509376\n"
          ],
          "name": "stdout"
        }
      ]
    },
    {
      "cell_type": "markdown",
      "metadata": {
        "id": "IWIPR4B7BNdh"
      },
      "source": [
        "# Artificial Neural Network(ANN)"
      ]
    },
    {
      "cell_type": "code",
      "metadata": {
        "colab": {
          "base_uri": "https://localhost:8080/"
        },
        "id": "FKbQuKl_exqt",
        "outputId": "3c970b81-942f-4aac-953d-55367fc7a66e"
      },
      "source": [
        "import keras\n",
        "\n",
        "from keras.layers import Dense\n",
        "from keras.models import Sequential\n",
        "from keras.optimizers import Adam\n",
        "ann=Sequential()\n",
        "ann.add(Dense(6, activation=\"relu\",input_shape=X_train.shape[1:]))\n",
        "ann.add(Dense(6,activation=\"relu\"))\n",
        "ann.add(Dense(1))\n",
        "\n",
        "optimizer=Adam(lr=0.001, decay=1e-6)\n",
        "loss=keras.losses.mean_squared_error\n",
        "ann.compile(optimizer=optimizer,loss=loss,metrics=[\"mean_squared_error\"])\n",
        "history=ann.fit(X_train,Y_train,epochs=100)\n",
        "ann.summary()\n",
        "print_error(X_test,Y_test,ann)"
      ],
      "execution_count": 27,
      "outputs": [
        {
          "output_type": "stream",
          "text": [
            "Epoch 1/100\n",
            "366/366 [==============================] - 1s 2ms/step - loss: 767407232.0000 - mean_squared_error: 767407232.0000\n",
            "Epoch 2/100\n",
            "366/366 [==============================] - 1s 2ms/step - loss: 767403648.0000 - mean_squared_error: 767403648.0000\n",
            "Epoch 3/100\n",
            "366/366 [==============================] - 1s 2ms/step - loss: 767399936.0000 - mean_squared_error: 767399936.0000\n",
            "Epoch 4/100\n",
            "366/366 [==============================] - 1s 2ms/step - loss: 767393856.0000 - mean_squared_error: 767393856.0000\n",
            "Epoch 5/100\n",
            "366/366 [==============================] - 1s 2ms/step - loss: 767381120.0000 - mean_squared_error: 767381120.0000\n",
            "Epoch 6/100\n",
            "366/366 [==============================] - 1s 2ms/step - loss: 767361856.0000 - mean_squared_error: 767361856.0000\n",
            "Epoch 7/100\n",
            "366/366 [==============================] - 1s 2ms/step - loss: 767338688.0000 - mean_squared_error: 767338688.0000\n",
            "Epoch 8/100\n",
            "366/366 [==============================] - 1s 2ms/step - loss: 767308736.0000 - mean_squared_error: 767308736.0000\n",
            "Epoch 9/100\n",
            "366/366 [==============================] - 1s 2ms/step - loss: 767274624.0000 - mean_squared_error: 767274624.0000\n",
            "Epoch 10/100\n",
            "366/366 [==============================] - 1s 2ms/step - loss: 767233216.0000 - mean_squared_error: 767233216.0000\n",
            "Epoch 11/100\n",
            "366/366 [==============================] - 1s 2ms/step - loss: 767186240.0000 - mean_squared_error: 767186240.0000\n",
            "Epoch 12/100\n",
            "366/366 [==============================] - 1s 2ms/step - loss: 767134976.0000 - mean_squared_error: 767134976.0000\n",
            "Epoch 13/100\n",
            "366/366 [==============================] - 1s 2ms/step - loss: 767077312.0000 - mean_squared_error: 767077312.0000\n",
            "Epoch 14/100\n",
            "366/366 [==============================] - 1s 2ms/step - loss: 767013632.0000 - mean_squared_error: 767013632.0000\n",
            "Epoch 15/100\n",
            "366/366 [==============================] - 1s 2ms/step - loss: 766945728.0000 - mean_squared_error: 766945728.0000\n",
            "Epoch 16/100\n",
            "366/366 [==============================] - 1s 2ms/step - loss: 766872768.0000 - mean_squared_error: 766872768.0000\n",
            "Epoch 17/100\n",
            "366/366 [==============================] - 1s 2ms/step - loss: 766796800.0000 - mean_squared_error: 766796800.0000\n",
            "Epoch 18/100\n",
            "366/366 [==============================] - 1s 2ms/step - loss: 766713856.0000 - mean_squared_error: 766713856.0000\n",
            "Epoch 19/100\n",
            "366/366 [==============================] - 1s 2ms/step - loss: 766629888.0000 - mean_squared_error: 766629888.0000\n",
            "Epoch 20/100\n",
            "366/366 [==============================] - 1s 2ms/step - loss: 766541952.0000 - mean_squared_error: 766541952.0000\n",
            "Epoch 21/100\n",
            "366/366 [==============================] - 1s 2ms/step - loss: 766452544.0000 - mean_squared_error: 766452544.0000\n",
            "Epoch 22/100\n",
            "366/366 [==============================] - 1s 2ms/step - loss: 766359296.0000 - mean_squared_error: 766359296.0000\n",
            "Epoch 23/100\n",
            "366/366 [==============================] - 1s 2ms/step - loss: 766266688.0000 - mean_squared_error: 766266688.0000\n",
            "Epoch 24/100\n",
            "366/366 [==============================] - 1s 2ms/step - loss: 766173312.0000 - mean_squared_error: 766173312.0000\n",
            "Epoch 25/100\n",
            "366/366 [==============================] - 1s 2ms/step - loss: 766078784.0000 - mean_squared_error: 766078784.0000\n",
            "Epoch 26/100\n",
            "366/366 [==============================] - 1s 2ms/step - loss: 765983808.0000 - mean_squared_error: 765983808.0000\n",
            "Epoch 27/100\n",
            "366/366 [==============================] - 1s 2ms/step - loss: 765889728.0000 - mean_squared_error: 765889728.0000\n",
            "Epoch 28/100\n",
            "366/366 [==============================] - 1s 2ms/step - loss: 765797056.0000 - mean_squared_error: 765797056.0000\n",
            "Epoch 29/100\n",
            "366/366 [==============================] - 1s 2ms/step - loss: 765706752.0000 - mean_squared_error: 765706752.0000\n",
            "Epoch 30/100\n",
            "366/366 [==============================] - 1s 2ms/step - loss: 765615680.0000 - mean_squared_error: 765615680.0000\n",
            "Epoch 31/100\n",
            "366/366 [==============================] - 1s 2ms/step - loss: 765526144.0000 - mean_squared_error: 765526144.0000\n",
            "Epoch 32/100\n",
            "366/366 [==============================] - 1s 2ms/step - loss: 765437120.0000 - mean_squared_error: 765437120.0000\n",
            "Epoch 33/100\n",
            "366/366 [==============================] - 1s 2ms/step - loss: 765348736.0000 - mean_squared_error: 765348736.0000\n",
            "Epoch 34/100\n",
            "366/366 [==============================] - 1s 2ms/step - loss: 765264640.0000 - mean_squared_error: 765264640.0000\n",
            "Epoch 35/100\n",
            "366/366 [==============================] - 1s 2ms/step - loss: 765184064.0000 - mean_squared_error: 765184064.0000\n",
            "Epoch 36/100\n",
            "366/366 [==============================] - 1s 2ms/step - loss: 765105984.0000 - mean_squared_error: 765105984.0000\n",
            "Epoch 37/100\n",
            "366/366 [==============================] - 1s 2ms/step - loss: 765030976.0000 - mean_squared_error: 765030976.0000\n",
            "Epoch 38/100\n",
            "366/366 [==============================] - 1s 2ms/step - loss: 764958656.0000 - mean_squared_error: 764958656.0000\n",
            "Epoch 39/100\n",
            "366/366 [==============================] - 1s 2ms/step - loss: 764890816.0000 - mean_squared_error: 764890816.0000\n",
            "Epoch 40/100\n",
            "366/366 [==============================] - 1s 2ms/step - loss: 764827456.0000 - mean_squared_error: 764827456.0000\n",
            "Epoch 41/100\n",
            "366/366 [==============================] - 1s 2ms/step - loss: 764767360.0000 - mean_squared_error: 764767360.0000\n",
            "Epoch 42/100\n",
            "366/366 [==============================] - 1s 2ms/step - loss: 764710976.0000 - mean_squared_error: 764710976.0000\n",
            "Epoch 43/100\n",
            "366/366 [==============================] - 1s 2ms/step - loss: 764654592.0000 - mean_squared_error: 764654592.0000\n",
            "Epoch 44/100\n",
            "366/366 [==============================] - 1s 2ms/step - loss: 764601664.0000 - mean_squared_error: 764601664.0000\n",
            "Epoch 45/100\n",
            "366/366 [==============================] - 1s 2ms/step - loss: 764550656.0000 - mean_squared_error: 764550656.0000\n",
            "Epoch 46/100\n",
            "366/366 [==============================] - 1s 2ms/step - loss: 764502784.0000 - mean_squared_error: 764502784.0000\n",
            "Epoch 47/100\n",
            "366/366 [==============================] - 1s 2ms/step - loss: 764458496.0000 - mean_squared_error: 764458496.0000\n",
            "Epoch 48/100\n",
            "366/366 [==============================] - 1s 2ms/step - loss: 764413312.0000 - mean_squared_error: 764413312.0000\n",
            "Epoch 49/100\n",
            "366/366 [==============================] - 1s 2ms/step - loss: 764371840.0000 - mean_squared_error: 764371840.0000\n",
            "Epoch 50/100\n",
            "366/366 [==============================] - 1s 2ms/step - loss: 764331328.0000 - mean_squared_error: 764331328.0000\n",
            "Epoch 51/100\n",
            "366/366 [==============================] - 1s 2ms/step - loss: 764293568.0000 - mean_squared_error: 764293568.0000\n",
            "Epoch 52/100\n",
            "366/366 [==============================] - 1s 2ms/step - loss: 764257856.0000 - mean_squared_error: 764257856.0000\n",
            "Epoch 53/100\n",
            "366/366 [==============================] - 1s 2ms/step - loss: 764224832.0000 - mean_squared_error: 764224832.0000\n",
            "Epoch 54/100\n",
            "366/366 [==============================] - 1s 2ms/step - loss: 764193920.0000 - mean_squared_error: 764193920.0000\n",
            "Epoch 55/100\n",
            "366/366 [==============================] - 1s 2ms/step - loss: 764162240.0000 - mean_squared_error: 764162240.0000\n",
            "Epoch 56/100\n",
            "366/366 [==============================] - 1s 2ms/step - loss: 764134080.0000 - mean_squared_error: 764134080.0000\n",
            "Epoch 57/100\n",
            "366/366 [==============================] - 1s 2ms/step - loss: 764103744.0000 - mean_squared_error: 764103744.0000\n",
            "Epoch 58/100\n",
            "366/366 [==============================] - 1s 2ms/step - loss: 764076672.0000 - mean_squared_error: 764076672.0000\n",
            "Epoch 59/100\n",
            "366/366 [==============================] - 1s 2ms/step - loss: 764053568.0000 - mean_squared_error: 764053568.0000\n",
            "Epoch 60/100\n",
            "366/366 [==============================] - 1s 2ms/step - loss: 764024832.0000 - mean_squared_error: 764024832.0000\n",
            "Epoch 61/100\n",
            "366/366 [==============================] - 1s 2ms/step - loss: 763999232.0000 - mean_squared_error: 763999232.0000\n",
            "Epoch 62/100\n",
            "366/366 [==============================] - 1s 2ms/step - loss: 763977728.0000 - mean_squared_error: 763977728.0000\n",
            "Epoch 63/100\n",
            "366/366 [==============================] - 1s 2ms/step - loss: 763951104.0000 - mean_squared_error: 763951104.0000\n",
            "Epoch 64/100\n",
            "366/366 [==============================] - 1s 2ms/step - loss: 763930368.0000 - mean_squared_error: 763930368.0000\n",
            "Epoch 65/100\n",
            "366/366 [==============================] - 1s 2ms/step - loss: 763906240.0000 - mean_squared_error: 763906240.0000\n",
            "Epoch 66/100\n",
            "366/366 [==============================] - 1s 2ms/step - loss: 763883776.0000 - mean_squared_error: 763883776.0000\n",
            "Epoch 67/100\n",
            "366/366 [==============================] - 1s 2ms/step - loss: 763861632.0000 - mean_squared_error: 763861632.0000\n",
            "Epoch 68/100\n",
            "366/366 [==============================] - 1s 2ms/step - loss: 763837760.0000 - mean_squared_error: 763837760.0000\n",
            "Epoch 69/100\n",
            "366/366 [==============================] - 1s 2ms/step - loss: 763818304.0000 - mean_squared_error: 763818304.0000\n",
            "Epoch 70/100\n",
            "366/366 [==============================] - 1s 2ms/step - loss: 763795264.0000 - mean_squared_error: 763795264.0000\n",
            "Epoch 71/100\n",
            "366/366 [==============================] - 1s 2ms/step - loss: 763773504.0000 - mean_squared_error: 763773504.0000\n",
            "Epoch 72/100\n",
            "366/366 [==============================] - 1s 2ms/step - loss: 763752320.0000 - mean_squared_error: 763752320.0000\n",
            "Epoch 73/100\n",
            "366/366 [==============================] - 1s 2ms/step - loss: 763733504.0000 - mean_squared_error: 763733504.0000\n",
            "Epoch 74/100\n",
            "366/366 [==============================] - 1s 2ms/step - loss: 763711296.0000 - mean_squared_error: 763711296.0000\n",
            "Epoch 75/100\n",
            "366/366 [==============================] - 1s 2ms/step - loss: 763694336.0000 - mean_squared_error: 763694336.0000\n",
            "Epoch 76/100\n",
            "366/366 [==============================] - 1s 2ms/step - loss: 763668032.0000 - mean_squared_error: 763668032.0000\n",
            "Epoch 77/100\n",
            "366/366 [==============================] - 1s 2ms/step - loss: 763648768.0000 - mean_squared_error: 763648768.0000\n",
            "Epoch 78/100\n",
            "366/366 [==============================] - 1s 2ms/step - loss: 763631232.0000 - mean_squared_error: 763631232.0000\n",
            "Epoch 79/100\n",
            "366/366 [==============================] - 1s 2ms/step - loss: 763608256.0000 - mean_squared_error: 763608256.0000\n",
            "Epoch 80/100\n",
            "366/366 [==============================] - 1s 2ms/step - loss: 763591680.0000 - mean_squared_error: 763591680.0000\n",
            "Epoch 81/100\n",
            "366/366 [==============================] - 1s 2ms/step - loss: 763565888.0000 - mean_squared_error: 763565888.0000\n",
            "Epoch 82/100\n",
            "366/366 [==============================] - 1s 2ms/step - loss: 763548160.0000 - mean_squared_error: 763548160.0000\n",
            "Epoch 83/100\n",
            "366/366 [==============================] - 1s 2ms/step - loss: 763530112.0000 - mean_squared_error: 763530112.0000\n",
            "Epoch 84/100\n",
            "366/366 [==============================] - 1s 2ms/step - loss: 763510656.0000 - mean_squared_error: 763510656.0000\n",
            "Epoch 85/100\n",
            "366/366 [==============================] - 1s 2ms/step - loss: 763493120.0000 - mean_squared_error: 763493120.0000\n",
            "Epoch 86/100\n",
            "366/366 [==============================] - 1s 2ms/step - loss: 763470976.0000 - mean_squared_error: 763470976.0000\n",
            "Epoch 87/100\n",
            "366/366 [==============================] - 1s 2ms/step - loss: 763451648.0000 - mean_squared_error: 763451648.0000\n",
            "Epoch 88/100\n",
            "366/366 [==============================] - 1s 2ms/step - loss: 763434368.0000 - mean_squared_error: 763434368.0000\n",
            "Epoch 89/100\n",
            "366/366 [==============================] - 1s 2ms/step - loss: 763416704.0000 - mean_squared_error: 763416704.0000\n",
            "Epoch 90/100\n",
            "366/366 [==============================] - 1s 2ms/step - loss: 763398080.0000 - mean_squared_error: 763398080.0000\n",
            "Epoch 91/100\n",
            "366/366 [==============================] - 1s 2ms/step - loss: 763378880.0000 - mean_squared_error: 763378880.0000\n",
            "Epoch 92/100\n",
            "366/366 [==============================] - 1s 2ms/step - loss: 763359104.0000 - mean_squared_error: 763359104.0000\n",
            "Epoch 93/100\n",
            "366/366 [==============================] - 1s 2ms/step - loss: 763338432.0000 - mean_squared_error: 763338432.0000\n",
            "Epoch 94/100\n",
            "366/366 [==============================] - 1s 2ms/step - loss: 763322112.0000 - mean_squared_error: 763322112.0000\n",
            "Epoch 95/100\n",
            "366/366 [==============================] - 1s 2ms/step - loss: 763303232.0000 - mean_squared_error: 763303232.0000\n",
            "Epoch 96/100\n",
            "366/366 [==============================] - 1s 2ms/step - loss: 763282560.0000 - mean_squared_error: 763282560.0000\n",
            "Epoch 97/100\n",
            "366/366 [==============================] - 1s 2ms/step - loss: 763266176.0000 - mean_squared_error: 763266176.0000\n",
            "Epoch 98/100\n",
            "366/366 [==============================] - 1s 2ms/step - loss: 763248320.0000 - mean_squared_error: 763248320.0000\n",
            "Epoch 99/100\n",
            "366/366 [==============================] - 1s 2ms/step - loss: 763228096.0000 - mean_squared_error: 763228096.0000\n",
            "Epoch 100/100\n",
            "366/366 [==============================] - 1s 2ms/step - loss: 763210432.0000 - mean_squared_error: 763210432.0000\n",
            "Model: \"sequential\"\n",
            "_________________________________________________________________\n",
            "Layer (type)                 Output Shape              Param #   \n",
            "=================================================================\n",
            "dense (Dense)                (None, 6)                 48        \n",
            "_________________________________________________________________\n",
            "dense_1 (Dense)              (None, 6)                 42        \n",
            "_________________________________________________________________\n",
            "dense_2 (Dense)              (None, 1)                 7         \n",
            "=================================================================\n",
            "Total params: 97\n",
            "Trainable params: 97\n",
            "Non-trainable params: 0\n",
            "_________________________________________________________________\n",
            "Mean Absolute Error: 3095.515461450066\n",
            "Mean Squared Error: 829496674.5163978\n",
            "Root Mean Squared Error: 28800.98391576923\n"
          ],
          "name": "stdout"
        }
      ]
    },
    {
      "cell_type": "code",
      "metadata": {
        "id": "5euW6_gEe5js"
      },
      "source": [
        "# Looking at the above models it has been analyzed that RandomForest is the best model with least root mean squared error"
      ],
      "execution_count": 28,
      "outputs": []
    },
    {
      "cell_type": "markdown",
      "metadata": {
        "id": "0LPTreljBT0B"
      },
      "source": [
        "# Saving the weights of the ANN model and Random forest model(best)"
      ]
    },
    {
      "cell_type": "code",
      "metadata": {
        "id": "sRE90oZbfcxt"
      },
      "source": [
        "#Saving Scikitlearn models\n",
        "import joblib\n",
        "joblib.dump(random_forest, \"random_forest_youtubeadview.pkl\")\n",
        "# Saving Keras Artificial Neural Network model\n",
        "ann.save(\"ann_youtubeadview.h5\")"
      ],
      "execution_count": 29,
      "outputs": []
    },
    {
      "cell_type": "markdown",
      "metadata": {
        "id": "-rYkBqEGBe0I"
      },
      "source": [
        "## Importing the test dataset for predictions"
      ]
    },
    {
      "cell_type": "code",
      "metadata": {
        "colab": {
          "resources": {
            "http://localhost:8080/nbextensions/google.colab/files.js": {
              "data": "Ly8gQ29weXJpZ2h0IDIwMTcgR29vZ2xlIExMQwovLwovLyBMaWNlbnNlZCB1bmRlciB0aGUgQXBhY2hlIExpY2Vuc2UsIFZlcnNpb24gMi4wICh0aGUgIkxpY2Vuc2UiKTsKLy8geW91IG1heSBub3QgdXNlIHRoaXMgZmlsZSBleGNlcHQgaW4gY29tcGxpYW5jZSB3aXRoIHRoZSBMaWNlbnNlLgovLyBZb3UgbWF5IG9idGFpbiBhIGNvcHkgb2YgdGhlIExpY2Vuc2UgYXQKLy8KLy8gICAgICBodHRwOi8vd3d3LmFwYWNoZS5vcmcvbGljZW5zZXMvTElDRU5TRS0yLjAKLy8KLy8gVW5sZXNzIHJlcXVpcmVkIGJ5IGFwcGxpY2FibGUgbGF3IG9yIGFncmVlZCB0byBpbiB3cml0aW5nLCBzb2Z0d2FyZQovLyBkaXN0cmlidXRlZCB1bmRlciB0aGUgTGljZW5zZSBpcyBkaXN0cmlidXRlZCBvbiBhbiAiQVMgSVMiIEJBU0lTLAovLyBXSVRIT1VUIFdBUlJBTlRJRVMgT1IgQ09ORElUSU9OUyBPRiBBTlkgS0lORCwgZWl0aGVyIGV4cHJlc3Mgb3IgaW1wbGllZC4KLy8gU2VlIHRoZSBMaWNlbnNlIGZvciB0aGUgc3BlY2lmaWMgbGFuZ3VhZ2UgZ292ZXJuaW5nIHBlcm1pc3Npb25zIGFuZAovLyBsaW1pdGF0aW9ucyB1bmRlciB0aGUgTGljZW5zZS4KCi8qKgogKiBAZmlsZW92ZXJ2aWV3IEhlbHBlcnMgZm9yIGdvb2dsZS5jb2xhYiBQeXRob24gbW9kdWxlLgogKi8KKGZ1bmN0aW9uKHNjb3BlKSB7CmZ1bmN0aW9uIHNwYW4odGV4dCwgc3R5bGVBdHRyaWJ1dGVzID0ge30pIHsKICBjb25zdCBlbGVtZW50ID0gZG9jdW1lbnQuY3JlYXRlRWxlbWVudCgnc3BhbicpOwogIGVsZW1lbnQudGV4dENvbnRlbnQgPSB0ZXh0OwogIGZvciAoY29uc3Qga2V5IG9mIE9iamVjdC5rZXlzKHN0eWxlQXR0cmlidXRlcykpIHsKICAgIGVsZW1lbnQuc3R5bGVba2V5XSA9IHN0eWxlQXR0cmlidXRlc1trZXldOwogIH0KICByZXR1cm4gZWxlbWVudDsKfQoKLy8gTWF4IG51bWJlciBvZiBieXRlcyB3aGljaCB3aWxsIGJlIHVwbG9hZGVkIGF0IGEgdGltZS4KY29uc3QgTUFYX1BBWUxPQURfU0laRSA9IDEwMCAqIDEwMjQ7CgpmdW5jdGlvbiBfdXBsb2FkRmlsZXMoaW5wdXRJZCwgb3V0cHV0SWQpIHsKICBjb25zdCBzdGVwcyA9IHVwbG9hZEZpbGVzU3RlcChpbnB1dElkLCBvdXRwdXRJZCk7CiAgY29uc3Qgb3V0cHV0RWxlbWVudCA9IGRvY3VtZW50LmdldEVsZW1lbnRCeUlkKG91dHB1dElkKTsKICAvLyBDYWNoZSBzdGVwcyBvbiB0aGUgb3V0cHV0RWxlbWVudCB0byBtYWtlIGl0IGF2YWlsYWJsZSBmb3IgdGhlIG5leHQgY2FsbAogIC8vIHRvIHVwbG9hZEZpbGVzQ29udGludWUgZnJvbSBQeXRob24uCiAgb3V0cHV0RWxlbWVudC5zdGVwcyA9IHN0ZXBzOwoKICByZXR1cm4gX3VwbG9hZEZpbGVzQ29udGludWUob3V0cHV0SWQpOwp9CgovLyBUaGlzIGlzIHJvdWdobHkgYW4gYXN5bmMgZ2VuZXJhdG9yIChub3Qgc3VwcG9ydGVkIGluIHRoZSBicm93c2VyIHlldCksCi8vIHdoZXJlIHRoZXJlIGFyZSBtdWx0aXBsZSBhc3luY2hyb25vdXMgc3RlcHMgYW5kIHRoZSBQeXRob24gc2lkZSBpcyBnb2luZwovLyB0byBwb2xsIGZvciBjb21wbGV0aW9uIG9mIGVhY2ggc3RlcC4KLy8gVGhpcyB1c2VzIGEgUHJvbWlzZSB0byBibG9jayB0aGUgcHl0aG9uIHNpZGUgb24gY29tcGxldGlvbiBvZiBlYWNoIHN0ZXAsCi8vIHRoZW4gcGFzc2VzIHRoZSByZXN1bHQgb2YgdGhlIHByZXZpb3VzIHN0ZXAgYXMgdGhlIGlucHV0IHRvIHRoZSBuZXh0IHN0ZXAuCmZ1bmN0aW9uIF91cGxvYWRGaWxlc0NvbnRpbnVlKG91dHB1dElkKSB7CiAgY29uc3Qgb3V0cHV0RWxlbWVudCA9IGRvY3VtZW50LmdldEVsZW1lbnRCeUlkKG91dHB1dElkKTsKICBjb25zdCBzdGVwcyA9IG91dHB1dEVsZW1lbnQuc3RlcHM7CgogIGNvbnN0IG5leHQgPSBzdGVwcy5uZXh0KG91dHB1dEVsZW1lbnQubGFzdFByb21pc2VWYWx1ZSk7CiAgcmV0dXJuIFByb21pc2UucmVzb2x2ZShuZXh0LnZhbHVlLnByb21pc2UpLnRoZW4oKHZhbHVlKSA9PiB7CiAgICAvLyBDYWNoZSB0aGUgbGFzdCBwcm9taXNlIHZhbHVlIHRvIG1ha2UgaXQgYXZhaWxhYmxlIHRvIHRoZSBuZXh0CiAgICAvLyBzdGVwIG9mIHRoZSBnZW5lcmF0b3IuCiAgICBvdXRwdXRFbGVtZW50Lmxhc3RQcm9taXNlVmFsdWUgPSB2YWx1ZTsKICAgIHJldHVybiBuZXh0LnZhbHVlLnJlc3BvbnNlOwogIH0pOwp9CgovKioKICogR2VuZXJhdG9yIGZ1bmN0aW9uIHdoaWNoIGlzIGNhbGxlZCBiZXR3ZWVuIGVhY2ggYXN5bmMgc3RlcCBvZiB0aGUgdXBsb2FkCiAqIHByb2Nlc3MuCiAqIEBwYXJhbSB7c3RyaW5nfSBpbnB1dElkIEVsZW1lbnQgSUQgb2YgdGhlIGlucHV0IGZpbGUgcGlja2VyIGVsZW1lbnQuCiAqIEBwYXJhbSB7c3RyaW5nfSBvdXRwdXRJZCBFbGVtZW50IElEIG9mIHRoZSBvdXRwdXQgZGlzcGxheS4KICogQHJldHVybiB7IUl0ZXJhYmxlPCFPYmplY3Q+fSBJdGVyYWJsZSBvZiBuZXh0IHN0ZXBzLgogKi8KZnVuY3Rpb24qIHVwbG9hZEZpbGVzU3RlcChpbnB1dElkLCBvdXRwdXRJZCkgewogIGNvbnN0IGlucHV0RWxlbWVudCA9IGRvY3VtZW50LmdldEVsZW1lbnRCeUlkKGlucHV0SWQpOwogIGlucHV0RWxlbWVudC5kaXNhYmxlZCA9IGZhbHNlOwoKICBjb25zdCBvdXRwdXRFbGVtZW50ID0gZG9jdW1lbnQuZ2V0RWxlbWVudEJ5SWQob3V0cHV0SWQpOwogIG91dHB1dEVsZW1lbnQuaW5uZXJIVE1MID0gJyc7CgogIGNvbnN0IHBpY2tlZFByb21pc2UgPSBuZXcgUHJvbWlzZSgocmVzb2x2ZSkgPT4gewogICAgaW5wdXRFbGVtZW50LmFkZEV2ZW50TGlzdGVuZXIoJ2NoYW5nZScsIChlKSA9PiB7CiAgICAgIHJlc29sdmUoZS50YXJnZXQuZmlsZXMpOwogICAgfSk7CiAgfSk7CgogIGNvbnN0IGNhbmNlbCA9IGRvY3VtZW50LmNyZWF0ZUVsZW1lbnQoJ2J1dHRvbicpOwogIGlucHV0RWxlbWVudC5wYXJlbnRFbGVtZW50LmFwcGVuZENoaWxkKGNhbmNlbCk7CiAgY2FuY2VsLnRleHRDb250ZW50ID0gJ0NhbmNlbCB1cGxvYWQnOwogIGNvbnN0IGNhbmNlbFByb21pc2UgPSBuZXcgUHJvbWlzZSgocmVzb2x2ZSkgPT4gewogICAgY2FuY2VsLm9uY2xpY2sgPSAoKSA9PiB7CiAgICAgIHJlc29sdmUobnVsbCk7CiAgICB9OwogIH0pOwoKICAvLyBXYWl0IGZvciB0aGUgdXNlciB0byBwaWNrIHRoZSBmaWxlcy4KICBjb25zdCBmaWxlcyA9IHlpZWxkIHsKICAgIHByb21pc2U6IFByb21pc2UucmFjZShbcGlja2VkUHJvbWlzZSwgY2FuY2VsUHJvbWlzZV0pLAogICAgcmVzcG9uc2U6IHsKICAgICAgYWN0aW9uOiAnc3RhcnRpbmcnLAogICAgfQogIH07CgogIGNhbmNlbC5yZW1vdmUoKTsKCiAgLy8gRGlzYWJsZSB0aGUgaW5wdXQgZWxlbWVudCBzaW5jZSBmdXJ0aGVyIHBpY2tzIGFyZSBub3QgYWxsb3dlZC4KICBpbnB1dEVsZW1lbnQuZGlzYWJsZWQgPSB0cnVlOwoKICBpZiAoIWZpbGVzKSB7CiAgICByZXR1cm4gewogICAgICByZXNwb25zZTogewogICAgICAgIGFjdGlvbjogJ2NvbXBsZXRlJywKICAgICAgfQogICAgfTsKICB9CgogIGZvciAoY29uc3QgZmlsZSBvZiBmaWxlcykgewogICAgY29uc3QgbGkgPSBkb2N1bWVudC5jcmVhdGVFbGVtZW50KCdsaScpOwogICAgbGkuYXBwZW5kKHNwYW4oZmlsZS5uYW1lLCB7Zm9udFdlaWdodDogJ2JvbGQnfSkpOwogICAgbGkuYXBwZW5kKHNwYW4oCiAgICAgICAgYCgke2ZpbGUudHlwZSB8fCAnbi9hJ30pIC0gJHtmaWxlLnNpemV9IGJ5dGVzLCBgICsKICAgICAgICBgbGFzdCBtb2RpZmllZDogJHsKICAgICAgICAgICAgZmlsZS5sYXN0TW9kaWZpZWREYXRlID8gZmlsZS5sYXN0TW9kaWZpZWREYXRlLnRvTG9jYWxlRGF0ZVN0cmluZygpIDoKICAgICAgICAgICAgICAgICAgICAgICAgICAgICAgICAgICAgJ24vYSd9IC0gYCkpOwogICAgY29uc3QgcGVyY2VudCA9IHNwYW4oJzAlIGRvbmUnKTsKICAgIGxpLmFwcGVuZENoaWxkKHBlcmNlbnQpOwoKICAgIG91dHB1dEVsZW1lbnQuYXBwZW5kQ2hpbGQobGkpOwoKICAgIGNvbnN0IGZpbGVEYXRhUHJvbWlzZSA9IG5ldyBQcm9taXNlKChyZXNvbHZlKSA9PiB7CiAgICAgIGNvbnN0IHJlYWRlciA9IG5ldyBGaWxlUmVhZGVyKCk7CiAgICAgIHJlYWRlci5vbmxvYWQgPSAoZSkgPT4gewogICAgICAgIHJlc29sdmUoZS50YXJnZXQucmVzdWx0KTsKICAgICAgfTsKICAgICAgcmVhZGVyLnJlYWRBc0FycmF5QnVmZmVyKGZpbGUpOwogICAgfSk7CiAgICAvLyBXYWl0IGZvciB0aGUgZGF0YSB0byBiZSByZWFkeS4KICAgIGxldCBmaWxlRGF0YSA9IHlpZWxkIHsKICAgICAgcHJvbWlzZTogZmlsZURhdGFQcm9taXNlLAogICAgICByZXNwb25zZTogewogICAgICAgIGFjdGlvbjogJ2NvbnRpbnVlJywKICAgICAgfQogICAgfTsKCiAgICAvLyBVc2UgYSBjaHVua2VkIHNlbmRpbmcgdG8gYXZvaWQgbWVzc2FnZSBzaXplIGxpbWl0cy4gU2VlIGIvNjIxMTU2NjAuCiAgICBsZXQgcG9zaXRpb24gPSAwOwogICAgd2hpbGUgKHBvc2l0aW9uIDwgZmlsZURhdGEuYnl0ZUxlbmd0aCkgewogICAgICBjb25zdCBsZW5ndGggPSBNYXRoLm1pbihmaWxlRGF0YS5ieXRlTGVuZ3RoIC0gcG9zaXRpb24sIE1BWF9QQVlMT0FEX1NJWkUpOwogICAgICBjb25zdCBjaHVuayA9IG5ldyBVaW50OEFycmF5KGZpbGVEYXRhLCBwb3NpdGlvbiwgbGVuZ3RoKTsKICAgICAgcG9zaXRpb24gKz0gbGVuZ3RoOwoKICAgICAgY29uc3QgYmFzZTY0ID0gYnRvYShTdHJpbmcuZnJvbUNoYXJDb2RlLmFwcGx5KG51bGwsIGNodW5rKSk7CiAgICAgIHlpZWxkIHsKICAgICAgICByZXNwb25zZTogewogICAgICAgICAgYWN0aW9uOiAnYXBwZW5kJywKICAgICAgICAgIGZpbGU6IGZpbGUubmFtZSwKICAgICAgICAgIGRhdGE6IGJhc2U2NCwKICAgICAgICB9LAogICAgICB9OwogICAgICBwZXJjZW50LnRleHRDb250ZW50ID0KICAgICAgICAgIGAke01hdGgucm91bmQoKHBvc2l0aW9uIC8gZmlsZURhdGEuYnl0ZUxlbmd0aCkgKiAxMDApfSUgZG9uZWA7CiAgICB9CiAgfQoKICAvLyBBbGwgZG9uZS4KICB5aWVsZCB7CiAgICByZXNwb25zZTogewogICAgICBhY3Rpb246ICdjb21wbGV0ZScsCiAgICB9CiAgfTsKfQoKc2NvcGUuZ29vZ2xlID0gc2NvcGUuZ29vZ2xlIHx8IHt9OwpzY29wZS5nb29nbGUuY29sYWIgPSBzY29wZS5nb29nbGUuY29sYWIgfHwge307CnNjb3BlLmdvb2dsZS5jb2xhYi5fZmlsZXMgPSB7CiAgX3VwbG9hZEZpbGVzLAogIF91cGxvYWRGaWxlc0NvbnRpbnVlLAp9Owp9KShzZWxmKTsK",
              "ok": true,
              "headers": [
                [
                  "content-type",
                  "application/javascript"
                ]
              ],
              "status": 200,
              "status_text": ""
            }
          },
          "base_uri": "https://localhost:8080/",
          "height": 73
        },
        "id": "Igb5Vu7GfyXR",
        "outputId": "2f451e0e-da2e-4c11-f65d-9560e6b2bc1b"
      },
      "source": [
        "from google.colab import files\n",
        "uploaded = files.upload()"
      ],
      "execution_count": 33,
      "outputs": [
        {
          "output_type": "display_data",
          "data": {
            "text/html": [
              "\n",
              "     <input type=\"file\" id=\"files-0b5a5bd2-f1a8-48aa-bd49-7e5bdbe613ee\" name=\"files[]\" multiple disabled\n",
              "        style=\"border:none\" />\n",
              "     <output id=\"result-0b5a5bd2-f1a8-48aa-bd49-7e5bdbe613ee\">\n",
              "      Upload widget is only available when the cell has been executed in the\n",
              "      current browser session. Please rerun this cell to enable.\n",
              "      </output>\n",
              "      <script src=\"/nbextensions/google.colab/files.js\"></script> "
            ],
            "text/plain": [
              "<IPython.core.display.HTML object>"
            ]
          },
          "metadata": {
            "tags": []
          }
        },
        {
          "output_type": "stream",
          "text": [
            "Saving test.csv to test.csv\n"
          ],
          "name": "stdout"
        }
      ]
    },
    {
      "cell_type": "code",
      "metadata": {
        "colab": {
          "base_uri": "https://localhost:8080/",
          "height": 195
        },
        "id": "1yavuTumhjzY",
        "outputId": "370f09fc-d73b-439f-b72a-8e3cf485bef8"
      },
      "source": [
        "test=pd.read_csv(\"test.csv\")\n",
        "test.head()"
      ],
      "execution_count": 34,
      "outputs": [
        {
          "output_type": "execute_result",
          "data": {
            "text/html": [
              "<div>\n",
              "<style scoped>\n",
              "    .dataframe tbody tr th:only-of-type {\n",
              "        vertical-align: middle;\n",
              "    }\n",
              "\n",
              "    .dataframe tbody tr th {\n",
              "        vertical-align: top;\n",
              "    }\n",
              "\n",
              "    .dataframe thead th {\n",
              "        text-align: right;\n",
              "    }\n",
              "</style>\n",
              "<table border=\"1\" class=\"dataframe\">\n",
              "  <thead>\n",
              "    <tr style=\"text-align: right;\">\n",
              "      <th></th>\n",
              "      <th>vidid</th>\n",
              "      <th>views</th>\n",
              "      <th>likes</th>\n",
              "      <th>dislikes</th>\n",
              "      <th>comment</th>\n",
              "      <th>published</th>\n",
              "      <th>duration</th>\n",
              "      <th>category</th>\n",
              "    </tr>\n",
              "  </thead>\n",
              "  <tbody>\n",
              "    <tr>\n",
              "      <th>0</th>\n",
              "      <td>VID_1054</td>\n",
              "      <td>440238</td>\n",
              "      <td>6153</td>\n",
              "      <td>218</td>\n",
              "      <td>1377</td>\n",
              "      <td>2017-02-18</td>\n",
              "      <td>PT7M29S</td>\n",
              "      <td>B</td>\n",
              "    </tr>\n",
              "    <tr>\n",
              "      <th>1</th>\n",
              "      <td>VID_18629</td>\n",
              "      <td>1040132</td>\n",
              "      <td>8171</td>\n",
              "      <td>340</td>\n",
              "      <td>1047</td>\n",
              "      <td>2016-06-28</td>\n",
              "      <td>PT6M29S</td>\n",
              "      <td>F</td>\n",
              "    </tr>\n",
              "    <tr>\n",
              "      <th>2</th>\n",
              "      <td>VID_13967</td>\n",
              "      <td>28534</td>\n",
              "      <td>31</td>\n",
              "      <td>11</td>\n",
              "      <td>1</td>\n",
              "      <td>2014-03-10</td>\n",
              "      <td>PT37M54S</td>\n",
              "      <td>D</td>\n",
              "    </tr>\n",
              "    <tr>\n",
              "      <th>3</th>\n",
              "      <td>VID_19442</td>\n",
              "      <td>1316715</td>\n",
              "      <td>2284</td>\n",
              "      <td>250</td>\n",
              "      <td>274</td>\n",
              "      <td>2010-06-05</td>\n",
              "      <td>PT9M55S</td>\n",
              "      <td>G</td>\n",
              "    </tr>\n",
              "    <tr>\n",
              "      <th>4</th>\n",
              "      <td>VID_770</td>\n",
              "      <td>1893173</td>\n",
              "      <td>2519</td>\n",
              "      <td>225</td>\n",
              "      <td>116</td>\n",
              "      <td>2016-09-03</td>\n",
              "      <td>PT3M8S</td>\n",
              "      <td>B</td>\n",
              "    </tr>\n",
              "  </tbody>\n",
              "</table>\n",
              "</div>"
            ],
            "text/plain": [
              "       vidid    views likes dislikes comment   published  duration category\n",
              "0   VID_1054   440238  6153      218    1377  2017-02-18   PT7M29S        B\n",
              "1  VID_18629  1040132  8171      340    1047  2016-06-28   PT6M29S        F\n",
              "2  VID_13967    28534    31       11       1  2014-03-10  PT37M54S        D\n",
              "3  VID_19442  1316715  2284      250     274  2010-06-05   PT9M55S        G\n",
              "4    VID_770  1893173  2519      225     116  2016-09-03    PT3M8S        B"
            ]
          },
          "metadata": {
            "tags": []
          },
          "execution_count": 34
        }
      ]
    },
    {
      "cell_type": "markdown",
      "metadata": {
        "id": "OjyQ5U7GBlrE"
      },
      "source": [
        "# Performing similar steps to clean and Normalise the test dataset as we performed for train dataset"
      ]
    },
    {
      "cell_type": "code",
      "metadata": {
        "colab": {
          "base_uri": "https://localhost:8080/",
          "height": 195
        },
        "id": "Yp7pQyUbhuec",
        "outputId": "df3ecc35-d708-4957-a985-ddd2df3a908d"
      },
      "source": [
        "def checki(x):\n",
        "        y = x[2:]\n",
        "        h = ''\n",
        "        m = ''\n",
        "        s = ''\n",
        "        mm = ''\n",
        "        P = ['H','M','S']\n",
        "        for i in y:\n",
        "            if i not in P:\n",
        "                mm+=i\n",
        "            else:\n",
        "                if(i==\"H\"):\n",
        "                    h = mm\n",
        "                    mm = ''\n",
        "                elif(i == \"M\"):\n",
        "                    m = mm\n",
        "                    mm = ''\n",
        "                else:\n",
        "                    s = mm\n",
        "                    mm = ''\n",
        "        if(h==''):\n",
        "            h = '00'\n",
        "        if(m == ''):\n",
        "            m = '00'\n",
        "        if(s==''):\n",
        "            s='00'\n",
        "        bp = h+':'+m+':'+s\n",
        "        return bp\n",
        "test=pd.read_csv(\"test.csv\")\n",
        "mp = pd.read_csv(\"test.csv\")[\"duration\"]\n",
        "time = mp.apply(checki)\n",
        "def func_sec(time_string):\n",
        "        h, m, s = time_string.split(':')\n",
        "        return int(h) * 3600 + int(m) * 60 + int(s)\n",
        "time1=time.apply(func_sec)\n",
        "test[\"duration\"]=time1\n",
        "test.head()"
      ],
      "execution_count": 35,
      "outputs": [
        {
          "output_type": "execute_result",
          "data": {
            "text/html": [
              "<div>\n",
              "<style scoped>\n",
              "    .dataframe tbody tr th:only-of-type {\n",
              "        vertical-align: middle;\n",
              "    }\n",
              "\n",
              "    .dataframe tbody tr th {\n",
              "        vertical-align: top;\n",
              "    }\n",
              "\n",
              "    .dataframe thead th {\n",
              "        text-align: right;\n",
              "    }\n",
              "</style>\n",
              "<table border=\"1\" class=\"dataframe\">\n",
              "  <thead>\n",
              "    <tr style=\"text-align: right;\">\n",
              "      <th></th>\n",
              "      <th>vidid</th>\n",
              "      <th>views</th>\n",
              "      <th>likes</th>\n",
              "      <th>dislikes</th>\n",
              "      <th>comment</th>\n",
              "      <th>published</th>\n",
              "      <th>duration</th>\n",
              "      <th>category</th>\n",
              "    </tr>\n",
              "  </thead>\n",
              "  <tbody>\n",
              "    <tr>\n",
              "      <th>0</th>\n",
              "      <td>VID_1054</td>\n",
              "      <td>440238</td>\n",
              "      <td>6153</td>\n",
              "      <td>218</td>\n",
              "      <td>1377</td>\n",
              "      <td>2017-02-18</td>\n",
              "      <td>449</td>\n",
              "      <td>B</td>\n",
              "    </tr>\n",
              "    <tr>\n",
              "      <th>1</th>\n",
              "      <td>VID_18629</td>\n",
              "      <td>1040132</td>\n",
              "      <td>8171</td>\n",
              "      <td>340</td>\n",
              "      <td>1047</td>\n",
              "      <td>2016-06-28</td>\n",
              "      <td>389</td>\n",
              "      <td>F</td>\n",
              "    </tr>\n",
              "    <tr>\n",
              "      <th>2</th>\n",
              "      <td>VID_13967</td>\n",
              "      <td>28534</td>\n",
              "      <td>31</td>\n",
              "      <td>11</td>\n",
              "      <td>1</td>\n",
              "      <td>2014-03-10</td>\n",
              "      <td>2274</td>\n",
              "      <td>D</td>\n",
              "    </tr>\n",
              "    <tr>\n",
              "      <th>3</th>\n",
              "      <td>VID_19442</td>\n",
              "      <td>1316715</td>\n",
              "      <td>2284</td>\n",
              "      <td>250</td>\n",
              "      <td>274</td>\n",
              "      <td>2010-06-05</td>\n",
              "      <td>595</td>\n",
              "      <td>G</td>\n",
              "    </tr>\n",
              "    <tr>\n",
              "      <th>4</th>\n",
              "      <td>VID_770</td>\n",
              "      <td>1893173</td>\n",
              "      <td>2519</td>\n",
              "      <td>225</td>\n",
              "      <td>116</td>\n",
              "      <td>2016-09-03</td>\n",
              "      <td>188</td>\n",
              "      <td>B</td>\n",
              "    </tr>\n",
              "  </tbody>\n",
              "</table>\n",
              "</div>"
            ],
            "text/plain": [
              "       vidid    views likes dislikes comment   published  duration category\n",
              "0   VID_1054   440238  6153      218    1377  2017-02-18       449        B\n",
              "1  VID_18629  1040132  8171      340    1047  2016-06-28       389        F\n",
              "2  VID_13967    28534    31       11       1  2014-03-10      2274        D\n",
              "3  VID_19442  1316715  2284      250     274  2010-06-05       595        G\n",
              "4    VID_770  1893173  2519      225     116  2016-09-03       188        B"
            ]
          },
          "metadata": {
            "tags": []
          },
          "execution_count": 35
        }
      ]
    },
    {
      "cell_type": "code",
      "metadata": {
        "id": "3RYAhVXi8GrJ"
      },
      "source": [
        "test['category']=test['category'].map(category)"
      ],
      "execution_count": 36,
      "outputs": []
    },
    {
      "cell_type": "code",
      "metadata": {
        "colab": {
          "base_uri": "https://localhost:8080/",
          "height": 195
        },
        "id": "T1ZXSGYg8SYB",
        "outputId": "15b369bf-721f-4c67-9984-036e754e538a"
      },
      "source": [
        "from sklearn.preprocessing import LabelEncoder\n",
        "#train['duration']=LabelEncoder().fit_transform(train['duration'])\n",
        "test['vidid']=LabelEncoder().fit_transform(test['vidid'])\n",
        "test['published']=LabelEncoder().fit_transform(test['published'])\n",
        "test.head()"
      ],
      "execution_count": 37,
      "outputs": [
        {
          "output_type": "execute_result",
          "data": {
            "text/html": [
              "<div>\n",
              "<style scoped>\n",
              "    .dataframe tbody tr th:only-of-type {\n",
              "        vertical-align: middle;\n",
              "    }\n",
              "\n",
              "    .dataframe tbody tr th {\n",
              "        vertical-align: top;\n",
              "    }\n",
              "\n",
              "    .dataframe thead th {\n",
              "        text-align: right;\n",
              "    }\n",
              "</style>\n",
              "<table border=\"1\" class=\"dataframe\">\n",
              "  <thead>\n",
              "    <tr style=\"text-align: right;\">\n",
              "      <th></th>\n",
              "      <th>vidid</th>\n",
              "      <th>views</th>\n",
              "      <th>likes</th>\n",
              "      <th>dislikes</th>\n",
              "      <th>comment</th>\n",
              "      <th>published</th>\n",
              "      <th>duration</th>\n",
              "      <th>category</th>\n",
              "    </tr>\n",
              "  </thead>\n",
              "  <tbody>\n",
              "    <tr>\n",
              "      <th>0</th>\n",
              "      <td>232</td>\n",
              "      <td>440238</td>\n",
              "      <td>6153</td>\n",
              "      <td>218</td>\n",
              "      <td>1377</td>\n",
              "      <td>2055</td>\n",
              "      <td>449</td>\n",
              "      <td>2</td>\n",
              "    </tr>\n",
              "    <tr>\n",
              "      <th>1</th>\n",
              "      <td>3529</td>\n",
              "      <td>1040132</td>\n",
              "      <td>8171</td>\n",
              "      <td>340</td>\n",
              "      <td>1047</td>\n",
              "      <td>1827</td>\n",
              "      <td>389</td>\n",
              "      <td>6</td>\n",
              "    </tr>\n",
              "    <tr>\n",
              "      <th>2</th>\n",
              "      <td>1653</td>\n",
              "      <td>28534</td>\n",
              "      <td>31</td>\n",
              "      <td>11</td>\n",
              "      <td>1</td>\n",
              "      <td>1010</td>\n",
              "      <td>2274</td>\n",
              "      <td>4</td>\n",
              "    </tr>\n",
              "    <tr>\n",
              "      <th>3</th>\n",
              "      <td>3866</td>\n",
              "      <td>1316715</td>\n",
              "      <td>2284</td>\n",
              "      <td>250</td>\n",
              "      <td>274</td>\n",
              "      <td>117</td>\n",
              "      <td>595</td>\n",
              "      <td>7</td>\n",
              "    </tr>\n",
              "    <tr>\n",
              "      <th>4</th>\n",
              "      <td>7846</td>\n",
              "      <td>1893173</td>\n",
              "      <td>2519</td>\n",
              "      <td>225</td>\n",
              "      <td>116</td>\n",
              "      <td>1894</td>\n",
              "      <td>188</td>\n",
              "      <td>2</td>\n",
              "    </tr>\n",
              "  </tbody>\n",
              "</table>\n",
              "</div>"
            ],
            "text/plain": [
              "   vidid    views likes dislikes comment  published  duration  category\n",
              "0    232   440238  6153      218    1377       2055       449         2\n",
              "1   3529  1040132  8171      340    1047       1827       389         6\n",
              "2   1653    28534    31       11       1       1010      2274         4\n",
              "3   3866  1316715  2284      250     274        117       595         7\n",
              "4   7846  1893173  2519      225     116       1894       188         2"
            ]
          },
          "metadata": {
            "tags": []
          },
          "execution_count": 37
        }
      ]
    },
    {
      "cell_type": "code",
      "metadata": {
        "id": "hW0lNIfw8Wuk"
      },
      "source": [
        "test=test[test.views!='F']\n",
        "test=test[test.likes!='F']\n",
        "test=test[test.dislikes!='F']\n",
        "test=test[test.comment!='F']"
      ],
      "execution_count": 38,
      "outputs": []
    },
    {
      "cell_type": "code",
      "metadata": {
        "id": "PirzdE1F85CB"
      },
      "source": [
        "test[\"views\"] = pd.to_numeric(test[\"views\"])\n",
        "test[\"comment\"] = pd.to_numeric(test[\"comment\"])\n",
        "test[\"likes\"] = pd.to_numeric(test[\"likes\"])\n",
        "test[\"dislikes\"] = pd.to_numeric(test[\"dislikes\"])\n"
      ],
      "execution_count": 39,
      "outputs": []
    },
    {
      "cell_type": "code",
      "metadata": {
        "id": "yBpVntAR9Eph"
      },
      "source": [
        "test1=test.drop(['vidid'],axis=1)"
      ],
      "execution_count": 40,
      "outputs": []
    },
    {
      "cell_type": "code",
      "metadata": {
        "colab": {
          "base_uri": "https://localhost:8080/",
          "height": 195
        },
        "id": "wzJ4qnfY9d0u",
        "outputId": "8a4bb100-2cb4-498d-8956-2ced7202c6e6"
      },
      "source": [
        "test1.head()"
      ],
      "execution_count": 41,
      "outputs": [
        {
          "output_type": "execute_result",
          "data": {
            "text/html": [
              "<div>\n",
              "<style scoped>\n",
              "    .dataframe tbody tr th:only-of-type {\n",
              "        vertical-align: middle;\n",
              "    }\n",
              "\n",
              "    .dataframe tbody tr th {\n",
              "        vertical-align: top;\n",
              "    }\n",
              "\n",
              "    .dataframe thead th {\n",
              "        text-align: right;\n",
              "    }\n",
              "</style>\n",
              "<table border=\"1\" class=\"dataframe\">\n",
              "  <thead>\n",
              "    <tr style=\"text-align: right;\">\n",
              "      <th></th>\n",
              "      <th>views</th>\n",
              "      <th>likes</th>\n",
              "      <th>dislikes</th>\n",
              "      <th>comment</th>\n",
              "      <th>published</th>\n",
              "      <th>duration</th>\n",
              "      <th>category</th>\n",
              "    </tr>\n",
              "  </thead>\n",
              "  <tbody>\n",
              "    <tr>\n",
              "      <th>0</th>\n",
              "      <td>440238</td>\n",
              "      <td>6153</td>\n",
              "      <td>218</td>\n",
              "      <td>1377</td>\n",
              "      <td>2055</td>\n",
              "      <td>449</td>\n",
              "      <td>2</td>\n",
              "    </tr>\n",
              "    <tr>\n",
              "      <th>1</th>\n",
              "      <td>1040132</td>\n",
              "      <td>8171</td>\n",
              "      <td>340</td>\n",
              "      <td>1047</td>\n",
              "      <td>1827</td>\n",
              "      <td>389</td>\n",
              "      <td>6</td>\n",
              "    </tr>\n",
              "    <tr>\n",
              "      <th>2</th>\n",
              "      <td>28534</td>\n",
              "      <td>31</td>\n",
              "      <td>11</td>\n",
              "      <td>1</td>\n",
              "      <td>1010</td>\n",
              "      <td>2274</td>\n",
              "      <td>4</td>\n",
              "    </tr>\n",
              "    <tr>\n",
              "      <th>3</th>\n",
              "      <td>1316715</td>\n",
              "      <td>2284</td>\n",
              "      <td>250</td>\n",
              "      <td>274</td>\n",
              "      <td>117</td>\n",
              "      <td>595</td>\n",
              "      <td>7</td>\n",
              "    </tr>\n",
              "    <tr>\n",
              "      <th>4</th>\n",
              "      <td>1893173</td>\n",
              "      <td>2519</td>\n",
              "      <td>225</td>\n",
              "      <td>116</td>\n",
              "      <td>1894</td>\n",
              "      <td>188</td>\n",
              "      <td>2</td>\n",
              "    </tr>\n",
              "  </tbody>\n",
              "</table>\n",
              "</div>"
            ],
            "text/plain": [
              "     views  likes  dislikes  comment  published  duration  category\n",
              "0   440238   6153       218     1377       2055       449         2\n",
              "1  1040132   8171       340     1047       1827       389         6\n",
              "2    28534     31        11        1       1010      2274         4\n",
              "3  1316715   2284       250      274        117       595         7\n",
              "4  1893173   2519       225      116       1894       188         2"
            ]
          },
          "metadata": {
            "tags": []
          },
          "execution_count": 41
        }
      ]
    },
    {
      "cell_type": "code",
      "metadata": {
        "id": "k455DYSX9feq"
      },
      "source": [
        "adview_pred=random_forest.predict(test1)"
      ],
      "execution_count": 42,
      "outputs": []
    },
    {
      "cell_type": "code",
      "metadata": {
        "id": "-6D1agqQ9_i_"
      },
      "source": [
        "test['adview']=adview_pred"
      ],
      "execution_count": 43,
      "outputs": []
    },
    {
      "cell_type": "code",
      "metadata": {
        "colab": {
          "base_uri": "https://localhost:8080/",
          "height": 195
        },
        "id": "8ZqX89j2-H8J",
        "outputId": "ad473582-c5b6-48f2-c20d-0e99014cd989"
      },
      "source": [
        "test.head()"
      ],
      "execution_count": 44,
      "outputs": [
        {
          "output_type": "execute_result",
          "data": {
            "text/html": [
              "<div>\n",
              "<style scoped>\n",
              "    .dataframe tbody tr th:only-of-type {\n",
              "        vertical-align: middle;\n",
              "    }\n",
              "\n",
              "    .dataframe tbody tr th {\n",
              "        vertical-align: top;\n",
              "    }\n",
              "\n",
              "    .dataframe thead th {\n",
              "        text-align: right;\n",
              "    }\n",
              "</style>\n",
              "<table border=\"1\" class=\"dataframe\">\n",
              "  <thead>\n",
              "    <tr style=\"text-align: right;\">\n",
              "      <th></th>\n",
              "      <th>vidid</th>\n",
              "      <th>views</th>\n",
              "      <th>likes</th>\n",
              "      <th>dislikes</th>\n",
              "      <th>comment</th>\n",
              "      <th>published</th>\n",
              "      <th>duration</th>\n",
              "      <th>category</th>\n",
              "      <th>adview</th>\n",
              "    </tr>\n",
              "  </thead>\n",
              "  <tbody>\n",
              "    <tr>\n",
              "      <th>0</th>\n",
              "      <td>232</td>\n",
              "      <td>440238</td>\n",
              "      <td>6153</td>\n",
              "      <td>218</td>\n",
              "      <td>1377</td>\n",
              "      <td>2055</td>\n",
              "      <td>449</td>\n",
              "      <td>2</td>\n",
              "      <td>127183.992687</td>\n",
              "    </tr>\n",
              "    <tr>\n",
              "      <th>1</th>\n",
              "      <td>3529</td>\n",
              "      <td>1040132</td>\n",
              "      <td>8171</td>\n",
              "      <td>340</td>\n",
              "      <td>1047</td>\n",
              "      <td>1827</td>\n",
              "      <td>389</td>\n",
              "      <td>6</td>\n",
              "      <td>127183.992687</td>\n",
              "    </tr>\n",
              "    <tr>\n",
              "      <th>2</th>\n",
              "      <td>1653</td>\n",
              "      <td>28534</td>\n",
              "      <td>31</td>\n",
              "      <td>11</td>\n",
              "      <td>1</td>\n",
              "      <td>1010</td>\n",
              "      <td>2274</td>\n",
              "      <td>4</td>\n",
              "      <td>127183.992687</td>\n",
              "    </tr>\n",
              "    <tr>\n",
              "      <th>3</th>\n",
              "      <td>3866</td>\n",
              "      <td>1316715</td>\n",
              "      <td>2284</td>\n",
              "      <td>250</td>\n",
              "      <td>274</td>\n",
              "      <td>117</td>\n",
              "      <td>595</td>\n",
              "      <td>7</td>\n",
              "      <td>127183.992687</td>\n",
              "    </tr>\n",
              "    <tr>\n",
              "      <th>4</th>\n",
              "      <td>7846</td>\n",
              "      <td>1893173</td>\n",
              "      <td>2519</td>\n",
              "      <td>225</td>\n",
              "      <td>116</td>\n",
              "      <td>1894</td>\n",
              "      <td>188</td>\n",
              "      <td>2</td>\n",
              "      <td>127183.992687</td>\n",
              "    </tr>\n",
              "  </tbody>\n",
              "</table>\n",
              "</div>"
            ],
            "text/plain": [
              "   vidid    views  likes  ...  duration  category         adview\n",
              "0    232   440238   6153  ...       449         2  127183.992687\n",
              "1   3529  1040132   8171  ...       389         6  127183.992687\n",
              "2   1653    28534     31  ...      2274         4  127183.992687\n",
              "3   3866  1316715   2284  ...       595         7  127183.992687\n",
              "4   7846  1893173   2519  ...       188         2  127183.992687\n",
              "\n",
              "[5 rows x 9 columns]"
            ]
          },
          "metadata": {
            "tags": []
          },
          "execution_count": 44
        }
      ]
    },
    {
      "cell_type": "code",
      "metadata": {
        "id": "txMILovJ9n4a"
      },
      "source": [
        "predictions=pd.DataFrame()"
      ],
      "execution_count": 45,
      "outputs": []
    },
    {
      "cell_type": "markdown",
      "metadata": {
        "id": "Fw4SzAX1B3lk"
      },
      "source": [
        "# Creating predictions.csv to contain the colum adview (predictions)\n",
        "# Completing the test.csv with the adview column(predictions)"
      ]
    },
    {
      "cell_type": "code",
      "metadata": {
        "id": "Qgkc3044-QpD"
      },
      "source": [
        "predictions['adview prediction']=adview_pred"
      ],
      "execution_count": 46,
      "outputs": []
    },
    {
      "cell_type": "code",
      "metadata": {
        "id": "XDcE4jqh_KHR"
      },
      "source": [
        "predictions.to_csv('predictions.csv',index=False)"
      ],
      "execution_count": 47,
      "outputs": []
    },
    {
      "cell_type": "code",
      "metadata": {
        "id": "wshXvIkE_Ohn"
      },
      "source": [
        "test.to_csv('test.csv')"
      ],
      "execution_count": 48,
      "outputs": []
    },
    {
      "cell_type": "code",
      "metadata": {
        "id": "wDQrfBkN_e17"
      },
      "source": [
        ""
      ],
      "execution_count": null,
      "outputs": []
    }
  ]
}